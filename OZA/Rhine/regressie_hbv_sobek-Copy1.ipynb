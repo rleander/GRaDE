{
 "cells": [
  {
   "cell_type": "code",
   "execution_count": 1,
   "metadata": {},
   "outputs": [],
   "source": [
    "import os, sys, re\n",
    "import numpy as np\n",
    "import numpy.ma as ma\n",
    "from math import *\n",
    "from tqdm.notebook import tqdm\n",
    "import matplotlib.pyplot as plt\n",
    "import fit_beta as fb\n",
    "import scipy.special as ss\n",
    "import bisect\n",
    "from ipywidgets import *"
   ]
  },
  {
   "cell_type": "code",
   "execution_count": null,
   "metadata": {},
   "outputs": [],
   "source": []
  },
  {
   "cell_type": "code",
   "execution_count": 2,
   "metadata": {},
   "outputs": [],
   "source": [
    "def linfit(x,y):\n",
    "    nn = ma.count(x)\n",
    "    c = [(ma.sum(x*y)-ma.sum(x)*ma.sum(y)/nn)/(ma.sum(x*x)-ma.sum(x)*ma.sum(x)/nn)]\n",
    "    c.append((ma.sum(y)-c[0]*ma.sum(x))/nn)\n",
    "    return(c)\n",
    "\n",
    "def interpolate(xx,yy,x,default=np.nan):\n",
    "    if x<xx[0] or x>xx[-1]:\n",
    "        return default\n",
    "    for i in range(len(xx)-1):\n",
    "        if (x>=xx[i] and x<=xx[i+1]):\n",
    "            w=(x-xx[i])/(xx[i+1]-xx[i])\n",
    "            return (1.-w)*yy[i] + w*yy[i+1]    "
   ]
  },
  {
   "cell_type": "markdown",
   "metadata": {},
   "source": [
    "<h3>Regressie HBV-to-SOBEK Rijn</h3>\n",
    "Uit regressie is een relatie bepaald uit de HBV-(piek)afvoeren $Q_h$ en de bijbehorende Sobek (piek)afvoeren $Q_s$ als volgt (Henk vd Boogaard, <tt>regression_2018</tt>):\n",
    "    $$Q_s\\,=\\,C\\,+\\,r_1Q_h\\,+\\,(r_2-r_1)\\sigma_1\\log\\left(1+\\exp\\left(\\frac{Q_h-\\mu_1}{\\sigma_1}\\right)\\right)$$\n",
    "    $$\\phantom{Q_s\\,=\\,C\\,+\\,r_1Q_h\\,}+\\,(r_3-r_2)\\,\\sigma_2\\log\\left(1+\\exp\\left(\\frac{Q_h-\\mu_2}{\\sigma_2}\\right)\\right)$$    \n",
    "    $$\\phantom{Q_s\\,=\\,C\\,+\\,r_1Q_h\\,}+\\,(r_4-r_3)\\,\\sigma_3\\log\\left(1+\\exp\\left(\\frac{Q_h-\\mu_3}{\\sigma_3}\\right)\\right)$$\n",
    "    $$\\phantom{Q_s\\,=\\,C\\,+\\,r_1Q_h\\,}+\\,(r_5-r_4)\\,\\sigma_4\\log\\left(1+\\exp\\left(\\frac{Q_h-\\mu_4}{\\sigma_4}\\right)\\right)$$"
   ]
  },
  {
   "cell_type": "code",
   "execution_count": 3,
   "metadata": {},
   "outputs": [],
   "source": [
    "def regression_2018(x, fit_regr=False):\n",
    "    c      = 342.254390\n",
    "    r1     = 0.91577902\n",
    "    mu1    = 14442.2780 #ORIG\n",
    "    sigma1 = 307.118620\n",
    "    r2     = 0.32752076\n",
    "    mu2    = 18573.2200 #ORIG\n",
    "    sigma2 = 2.71804449E-14\n",
    "    r3     = 0.53632634 #ORIG\n",
    "    mu3    = 21904.1250 #ORIG\n",
    "    sigma3 = 136.807970  \n",
    "    r4     = 0.21296795\n",
    "    mu4    = 26177.6500 #ORIG\n",
    "    sigma4 = 79.5476640\n",
    "    r5     = 0.00000000\n",
    "    if fit_regr == True:\n",
    "        mu1    = 14800.0000\n",
    "        mu2    = 17750.0000\n",
    "        r3     = 0.75000000\n",
    "        mu3    = 20000.0000\n",
    "    \n",
    "    x_ = []\n",
    "    for value in x:\n",
    "        z1 = (value-mu1)/sigma1\n",
    "        z2 = (value-mu2)/sigma2\n",
    "        z3 = (value-mu3)/sigma3\n",
    "        z4 = (value-mu4)/sigma4\n",
    "        \n",
    "        a1 = (r1*value)\n",
    "        a2 = ((r2-r1)*sigma1*np.log(1+np.exp(z1)))\n",
    "        \n",
    "        try:\n",
    "            a3 = ((r3-r2)*sigma2*np.log(1+math.exp(z2)))\n",
    "        except:\n",
    "            a3 = ((r3-r2)*sigma2*z2)\n",
    "        a4 = ((r4-r3)*sigma3*np.log(1+np.exp(z3)))\n",
    "        a5 = ((r5-r4)*sigma4*np.log(1+np.exp(z4)))\n",
    "        \n",
    "        y = c + a1 + a2 + a3 + a4 + a5\n",
    "        x_.append(y)\n",
    "\n",
    "    return x_\n"
   ]
  },
  {
   "cell_type": "code",
   "execution_count": 4,
   "metadata": {},
   "outputs": [
    {
     "data": {
      "image/png": "[encoded data removed]",
      "text/plain": [
       "<Figure size 1080x576 with 1 Axes>"
      ]
     },
     "metadata": {
      "needs_background": "light"
     },
     "output_type": "display_data"
    }
   ],
   "source": [
    "x = list(range(100,40000,100))\n",
    "y = regression_2018(x)    \n",
    "fig = plt.figure(figsize=(15,8))\n",
    "ax1 = fig.add_subplot(1, 1, 1)\n",
    "\n",
    "ax1.plot(x,y,'r-',linewidth=2.0)\n",
    "# ax1.plot(x,x,'--')\n",
    "max_sbk=max(y)\n",
    "max_sbk\n",
    "# ax1.plot(ax1.get_xlim(),[max_sbk,max_sbk],'r--')\n",
    "xx=np.array(x)\n",
    "ax1.grid()\n",
    "xlbl = ax1.set_xlabel('$Q_h [m^3 s^{-1}]$')\n",
    "ylbl = ax1.set_ylabel('$Q_h [m^3 s^{-1}]$')"
   ]
  },
  {
   "cell_type": "markdown",
   "metadata": {},
   "source": [
    "We zoeken de dichtheid van $Q_s$, als $Q_h$ normaal verdeeld is.\n",
    "I.h.a, als de invoer $x$ van de transformatie een dichtheid $f(x)$ heeft (en een verdeling $F(x)$), dan geldt\n",
    "voor de dichtheid $g$ van de uitvoer $y(x)$:\n",
    "$$\n",
    "g(y) dy\\,=\\,f(x)dx\n",
    "\\hspace{2cm}\n",
    "\\rightarrow\n",
    "\\hspace{2cm}\n",
    "g(y)\\,=\\,f\\left(x(y)\\right) \\frac {dx}{dy}\n",
    "$$\n",
    "\n",
    "Dit veresit een voorschrift van $x$ als functie van $y$, dus in het bovenstaande geval de inverse van de transformatie van $Q_h$ naar $Q_s$ en ook de afgeleide van deze inverse $dQ_h/dQ_s$. Voor overzicht noteren we $Q_h=x$ en $Q_s=y$.\n"
   ]
  },
  {
   "cell_type": "markdown",
   "metadata": {},
   "source": [
    "<b>Optie 1:</b>\n",
    "\n",
    "Tabelleer de transformatie (tabel van $x$ versus $y$) en bepaal daaruit de afgeleide van de transformatie en zjin inverse.\n",
    "Note: de transformatie is monotoon, dus bijectief, dus geldt:\n",
    "        $$\n",
    "        %\\phantom{\\left\\vert}\\frac {dx}{dy}\\right\\vert_{y}\\,=\\,\n",
    "        \\left[\\frac {dx}{dy}\\right]_{y}\\,=\\,\n",
    "        \\left[\\frac {dy}{dx}\\right]^{-1}_{x(y)}\n",
    "        $$"
   ]
  },
  {
   "cell_type": "code",
   "execution_count": 5,
   "metadata": {},
   "outputs": [
    {
     "name": "stderr",
     "output_type": "stream",
     "text": [
      "C:\\Users\\leander\\AppData\\Local\\Continuum\\anaconda3\\lib\\site-packages\\ipykernel_launcher.py:5: RuntimeWarning: divide by zero encountered in true_divide\n",
      "  \"\"\"\n"
     ]
    }
   ],
   "source": [
    "#tabelleer de regressie:\n",
    "x_hbv = np.array(list(range(100,40000,100)))\n",
    "y_sbk = np.array(regression_2018(x_hbv))\n",
    "dydx = {'x':(x_hbv[1:]+x_hbv[:-1])*0.5,'dydx':(y_sbk[1:]-y_sbk[:-1])/(x_hbv[1:]-x_hbv[:-1])}\n",
    "dxdy = {'y':(y_sbk[1:]+y_sbk[:-1])*0.5,'dxdy':(x_hbv[1:]-x_hbv[:-1])/(y_sbk[1:]-y_sbk[:-1])}"
   ]
  },
  {
   "cell_type": "markdown",
   "metadata": {},
   "source": [
    "<b>Optie 2:</b>\n",
    "Bedenk een benadering die te inverteren is en waarvan de afgeleiden in beide richtingen eenvoudig zijn, bijvoorbeeld:\n",
    "\n",
    "$$\n",
    "y(x)\\,=\\,\n",
    "\\cases{\n",
    "x<x_{th}:\\hspace{1cm}K\\,+\\,(x-x_{th})\\alpha \\\\\n",
    "x>x_{th}:\\hspace{1cm}M\\left(1-A \\exp\\left(-(x/\\sigma)^\\gamma\\right)\\right) \n",
    "}\n",
    "$$\n",
    "En voor de afgeleide:\n",
    "\n",
    "$$\n",
    "\\frac{\\partial y}{\\partial x}\\,=\\,\n",
    "\\cases{\n",
    "x<x_{th}:\\hspace{1cm}\\alpha \\\\\n",
    "x>x_{th}:\\hspace{1cm}\\frac{\\gamma MA}\\sigma (x/\\sigma)^{\\gamma-1} \\exp\\left(-(x/\\sigma)^\\gamma\\right)\n",
    "}\n",
    "$$\n",
    "\n",
    "Continu en continu differentiëerbaar in $x_{th}$:\n",
    "$$\n",
    "K\\,=\\,M\\left(1-A \\exp\\left(-(x_{th}/\\sigma)^\\gamma\\right)\\right)  \\\\\n",
    "\\alpha\\,=\\,\\frac{\\gamma MA}\\sigma (x_{th}/\\sigma)^{\\gamma-1} \\exp\\left(-(x_{th}/\\sigma)^\\gamma\\right)\n",
    "$$\n",
    "\n",
    "Inverse:\n",
    "$$\n",
    "x(y)\\,=\\,\n",
    "\\cases{\n",
    "y<K:\\hspace{1cm}x_{th}\\,+\\,\\frac 1 \\alpha(y\\,-\\,K)\\\\\n",
    "y>K:\\hspace{1cm}\\sigma\\left(-\\log\\left(\\frac 1 A \\left[1\\,-\\,\\frac y M\\right]\\right)\\right)^{1/\\gamma}\n",
    "}\n",
    "$$\n",
    "\n",
    "Afgeleide van de inverse:\n",
    "$$\n",
    "\\frac{\\partial x}{\\partial y}\\,=\\,\n",
    "\\cases{\n",
    "y<K:\\hspace{1cm}1/\\alpha\\\\\n",
    "y>K:\\hspace{1cm}\n",
    "\\frac \\sigma \\gamma \\left(-\\log\\left(\\frac 1 A \\left[1-\\frac y M\\right]\\right)\\right)^{1/\\gamma-1}\n",
    "\\frac A {M-y}\n",
    "}\n",
    "$$\n",
    "\n",
    "De afgeleide van de inverse gaat naar oneindig als $y\\uparrow M$, de bovengrens van de transformatie.\n"
   ]
  },
  {
   "cell_type": "code",
   "execution_count": 6,
   "metadata": {},
   "outputs": [],
   "source": [
    "# Vereenvoudigde benadering van de transformatie HBV naar Sobek\n",
    "M = 17617.7\n",
    "xxth = 12000\n",
    "gamma = 1.5\n",
    "A = 1.4\n",
    "sigma = 10656\n",
    "\n",
    "# Voorwaartse transformatie\n",
    "def diff_forward_upper(xx):\n",
    "    dydx=gamma*M*A/sigma*(xx/sigma)**(gamma-1)*np.exp(-(xx/sigma)**gamma)\n",
    "    return dydx\n",
    "\n",
    "def diff_forward(xx):\n",
    "    if xx>xxth:\n",
    "        dxdy=diff_forward_upper(xx)\n",
    "    else:\n",
    "        dxdy=diff_forward_upper(xxth)\n",
    "    return dxdy\n",
    "    \n",
    "def forward_upper(xx):\n",
    "    yy=M-A*M*np.exp(-(xx/sigma)**gamma)\n",
    "    return yy\n",
    "\n",
    "def forward(xx):\n",
    "    if xx>xxth:\n",
    "        yy=forward_upper(xx)\n",
    "    else:\n",
    "        yy=forward_upper(xxth)+(xx-xxth)*diff_forward_upper(xxth)\n",
    "    return yy"
   ]
  },
  {
   "cell_type": "code",
   "execution_count": 7,
   "metadata": {},
   "outputs": [],
   "source": [
    "yyth = forward(xxth)\n",
    "\n",
    "# Inverse transformatie\n",
    "def diff_inverse_upper(yy):\n",
    "    dxdy=(sigma/gamma)*(-np.log(1./A*(1.-yy/M)))**(1./gamma-1.)*A/(M-yy)\n",
    "    return dxdy\n",
    "\n",
    "def diff_inverse(yy):\n",
    "    if yy>yyth:\n",
    "        dxdy=diff_inverse_upper(yy)\n",
    "    else:\n",
    "        dxdy=diff_inverse_upper(yyth)\n",
    "    return dxdy\n",
    "    \n",
    "def inverse_upper(yy):\n",
    "    xx=sigma*(-np.log(1./A*(1.-yy/M)))**(1./gamma)\n",
    "    return xx\n",
    "\n",
    "def inverse(yy):\n",
    "    if yy>yyth:\n",
    "        xx=inverse_upper(yy)\n",
    "    else:\n",
    "        xx=inverse_upper(yyth)+(yy-yyth)*diff_inverse_upper(yyth)\n",
    "    return xx"
   ]
  },
  {
   "cell_type": "code",
   "execution_count": 8,
   "metadata": {},
   "outputs": [
    {
     "data": {
      "image/png": "[encoded data removed]",
      "text/plain": [
       "<Figure size 1080x576 with 1 Axes>"
      ]
     },
     "metadata": {
      "needs_background": "light"
     },
     "output_type": "display_data"
    }
   ],
   "source": [
    "x = list(range(100,40000,100))\n",
    "y = regression_2018(x)    \n",
    "fig = plt.figure(figsize=(15,8))\n",
    "ax1 = fig.add_subplot(1, 1, 1)\n",
    "\n",
    "ax1.plot(x,y,'r-',label='regression_2018')\n",
    "# ax1.plot(x,x,'--')\n",
    "max_sbk=max(y)\n",
    "\n",
    "# ax1.plot(ax1.get_xlim(),[max_sbk,max_sbk],'r--')\n",
    "xx=np.array(x)\n",
    "approx=np.array([forward(xi) for xi in xx])\n",
    "ax1.plot(xx,approx,'b--',linewidth=4.0,label='exponentiële  benadering')\n",
    "ax1.grid()\n",
    "ax1.grid()\n",
    "xlbl = ax1.set_xlabel('$Q_h [m^3 s^{-1}]$')\n",
    "ylbl = ax1.set_ylabel('$Q_h [m^3 s^{-1}]$')\n",
    "lgnd = ax1.legend()"
   ]
  },
  {
   "cell_type": "markdown",
   "metadata": {},
   "source": [
    "Met de exponentiële benadering en inverse en afgeleiden kan de resulterende dichtheid voor de Sobek piekafvoer berekend worden, als de HBV piekafvoer $N(\\mu,\\sigma)$ verdeeld is: "
   ]
  },
  {
   "cell_type": "code",
   "execution_count": 9,
   "metadata": {},
   "outputs": [
    {
     "data": {
      "text/plain": [
       "[<matplotlib.lines.Line2D at 0x2b98f550b70>]"
      ]
     },
     "execution_count": 9,
     "metadata": {},
     "output_type": "execute_result"
    },
    {
     "data": {
      "image/png": "[encoded data removed]",
      "text/plain": [
       "<Figure size 432x288 with 1 Axes>"
      ]
     },
     "metadata": {
      "needs_background": "light"
     },
     "output_type": "display_data"
    }
   ],
   "source": [
    "x = np.array(list(range(0,30000,25)))\n",
    "y = np.array([diff_forward(xx) for xx in x]) \n",
    "y2 = np.array([interpolate(dydx['x'],dydx['dydx'],xx) for xx in x]) \n",
    "plt.plot(x,y2)\n",
    "plt.plot(x,y)\n",
    "\n"
   ]
  },
  {
   "cell_type": "code",
   "execution_count": 10,
   "metadata": {},
   "outputs": [
    {
     "data": {
      "application/vnd.jupyter.widget-view+json": {
       "model_id": "815840a3e3154483a513eb53ff9b57d1",
       "version_major": 2,
       "version_minor": 0
      },
      "text/plain": [
       "interactive(children=(FloatSlider(value=20000.0, continuous_update=False, description='$\\\\mu$', max=26000.0, m…"
      ]
     },
     "metadata": {},
     "output_type": "display_data"
    },
    {
     "data": {
      "text/plain": [
       "<function __main__.update_transform(mu=FloatSlider(value=20000.0, continuous_update=False, description='$\\\\mu$', max=26000.0, min=5000.0, step=100.0), sgm=FloatSlider(value=1000.0, continuous_update=False, description='$\\\\sigma$', max=10000.0, min=200.0, step=50.0))>"
      ]
     },
     "execution_count": 10,
     "metadata": {},
     "output_type": "execute_result"
    }
   ],
   "source": [
    "def normpdf(xx,mu,sigma):\n",
    "    return (1./(sigma*sqrt(2*pi))*np.exp(-(xx-mu)**2/2./sigma**2))\n",
    "\n",
    "xrange = np.array(list(range(0,30000,25)))\n",
    "mu0 = 20000\n",
    "sigma0=1000\n",
    "def update_transform(mu=widgets.FloatSlider(min=5000, max=26000, step=100, value=mu0, continuous_update=False, description='$\\mu$'),sgm=widgets.FloatSlider(min=200, max=10000, step=50, value=sigma0, continuous_update=False, description='$\\sigma$')):\n",
    "#def update_betafit(sigma=widgets.FloatSlider(min=log(0.1*sigma0), max=log(10*sigma0), step=0.01, value=sigma0, continuous_update=False)):\n",
    "    fig = plt.figure(figsize=(15,8))\n",
    "    ax1 = fig.add_subplot(1, 1, 1)\n",
    "    xpdf = normpdf(xrange,mu,sgm)\n",
    "    xrange2 = xrange[xrange<max_sbk]\n",
    "    ax1.plot(xrange,xpdf,'-',label='HBV')\n",
    "    if False:\n",
    "        ypdf = normpdf(np.array([inverse(xx) for xx in xrange2]),mu,sgm) #*np.array([diff_inverse(xx) for xx in xrange2])\n",
    "        ypdf = ypdf*np.array([diff_inverse(xx) for xx in xrange2])\n",
    "        ax1.plot(xrange2,ypdf,'-',label='SOBEK')\n",
    "    else:\n",
    "        ypdf = normpdf(np.array([inverse(xx) for xx in xrange]),mu,sgm) #*np.array([diff_inverse(xx) for xx in xrange2])\n",
    "        ypdf = ypdf*np.array([diff_inverse(xx) for xx in xrange])\n",
    "        ax1.plot(xrange,ypdf,'-',label='SOBEK')\n",
    "    ax1.plot([max_sbk,max_sbk],ax1.get_ylim(),'g--')\n",
    "    ax1.plot(np.array([25000,25000]),np.array([0,normpdf(25000,mu,sgm)]),'r--')\n",
    "    \n",
    "    xtail=xrange[xrange>25000]\n",
    "    ytail=xpdf[xrange>25000]\n",
    "    ax1.fill_between(xtail,0,ytail)\n",
    "    lgnd=ax1.legend()\n",
    "    ax1.set_title('Transformatie van de dichtheid onder de explonentiële benadering')\n",
    "    \n",
    "    return ax1\n",
    "interact(update_transform)"
   ]
  },
  {
   "cell_type": "code",
   "execution_count": 11,
   "metadata": {},
   "outputs": [
    {
     "data": {
      "application/vnd.jupyter.widget-view+json": {
       "model_id": "9b4d0ee772574e658c898489eca62118",
       "version_major": 2,
       "version_minor": 0
      },
      "text/plain": [
       "interactive(children=(FloatSlider(value=20000.0, continuous_update=False, description='$\\\\mu$', max=26000.0, m…"
      ]
     },
     "metadata": {},
     "output_type": "display_data"
    },
    {
     "data": {
      "text/plain": [
       "<function __main__.update_transform2(mu=FloatSlider(value=20000.0, continuous_update=False, description='$\\\\mu$', max=26000.0, min=5000.0, step=100.0), sgm=FloatSlider(value=1000.0, continuous_update=False, description='$\\\\sigma$', max=10000.0, min=200.0, step=50.0))>"
      ]
     },
     "execution_count": 11,
     "metadata": {},
     "output_type": "execute_result"
    }
   ],
   "source": [
    "def normpdf(xx,mu,sigma):\n",
    "    return (1./(sigma*sqrt(2*pi))*np.exp(-(xx-mu)**2/2./sigma**2))\n",
    "\n",
    "xrange = np.array(list(range(0,30000,25)))\n",
    "mu0 = 20000\n",
    "sigma0=1000\n",
    "def update_transform2(mu=widgets.FloatSlider(min=5000, max=26000, step=100, value=mu0, continuous_update=False, description='$\\mu$'),sgm=widgets.FloatSlider(min=200, max=10000, step=50, value=sigma0, continuous_update=False, description='$\\sigma$')):\n",
    "#def update_betafit(sigma=widgets.FloatSlider(min=log(0.1*sigma0), max=log(10*sigma0), step=0.01, value=sigma0, continuous_update=False)):\n",
    "    fig = plt.figure(figsize=(15,8))\n",
    "    ax1 = fig.add_subplot(1, 1, 1)\n",
    "    xpdf = normpdf(xrange,mu,sgm)\n",
    "    xrange2 = xrange[xrange<max_sbk]\n",
    "    ypdf = np.array([normpdf(interpolate(y_sbk,x_hbv,yy),mu,sgm) for yy in xrange2])\n",
    "    ypdf = ypdf * np.array([interpolate(dxdy['y'],dxdy['dxdy'],yy) for yy in xrange2]) \n",
    "        \n",
    "    ax1.plot(xrange,xpdf,'-',label='HBV')\n",
    "    ax1.plot(xrange2,ypdf,'-',linewidth=4.0,label='SOBEK')\n",
    "    ax1.plot([max_sbk,max_sbk],ax1.get_ylim(),'g--')\n",
    "    ax1.plot(np.array([25000,25000]),np.array([0,normpdf(25000,mu,sgm)]),'r--')\n",
    "    \n",
    "    xtail=xrange[xrange>25000]\n",
    "    ytail=xpdf[xrange>25000]\n",
    "    ax1.fill_between(xtail,0,ytail)\n",
    "    lgnd=ax1.legend()\n",
    "    ax1.set_title('Transformatie van de dichtheid onder regression_2018')\n",
    "    \n",
    "    return ax1\n",
    "interact(update_transform2)"
   ]
  },
  {
   "cell_type": "code",
   "execution_count": 13,
   "metadata": {},
   "outputs": [
    {
     "data": {
      "application/vnd.jupyter.widget-view+json": {
       "model_id": "7200d4bf11014fa194041931d358ed51",
       "version_major": 2,
       "version_minor": 0
      },
      "text/plain": [
       "interactive(children=(FloatSlider(value=20000.0, continuous_update=False, description='$\\\\mu$', max=26000.0, m…"
      ]
     },
     "metadata": {},
     "output_type": "display_data"
    },
    {
     "data": {
      "text/plain": [
       "<function __main__.update_transform4(mu=FloatSlider(value=20000.0, continuous_update=False, description='$\\\\mu$', max=26000.0, min=5000.0, step=100.0), sgm=FloatSlider(value=1000.0, continuous_update=False, description='$\\\\sigma$', max=10000.0, min=200.0, step=50.0))>"
      ]
     },
     "execution_count": 13,
     "metadata": {},
     "output_type": "execute_result"
    }
   ],
   "source": [
    "x = list(range(100,40000,100))\n",
    "y = regression_2018(x)    \n",
    "max_sbk=max(y)\n",
    "xx=np.array(x)\n",
    "approx=np.array([forward(xi) for xi in xx])\n",
    "\n",
    "def normpdf(xx,mu,sigma):\n",
    "    return (1./(sigma*sqrt(2*pi))*np.exp(-(xx-mu)**2/2./sigma**2))\n",
    "\n",
    "xrange = np.array(list(range(0,30000,25)))\n",
    "mu0 = 20000\n",
    "sigma0=1000\n",
    "\n",
    "mu1    = 14442.2780 #ORIG\n",
    "mu2    = 18573.2200 #ORIG\n",
    "mu3    = 21904.1250 #ORIG\n",
    "mu4    = 26177.6500 #ORIG\n",
    "\n",
    "\n",
    "\n",
    "def update_transform4(mu=widgets.FloatSlider(min=5000, max=26000, step=100, value=mu0, continuous_update=False, description='$\\mu$'),sgm=widgets.FloatSlider(min=200, max=10000, step=50, value=sigma0, continuous_update=False, description='$\\sigma$')):\n",
    "#def update_betafit(sigma=widgets.FloatSlider(min=log(0.1*sigma0), max=log(10*sigma0), step=0.01, value=sigma0, continuous_update=False)):\n",
    "    fig = plt.figure(figsize=(15,8))\n",
    "    ax1 = fig.add_subplot(1, 1, 1)\n",
    "    ax2 = ax1.twinx()\n",
    "    ax3 = ax1.twiny()\n",
    "\n",
    "    ax1.plot(x,y,'r-',label='regression_2018')\n",
    "    ax1.plot(xx,approx,'b--',linewidth=4.0,label='exponentiële  benadering')\n",
    "\n",
    "    plot_levels = True        \n",
    "\n",
    "    ax3.set_xlim(0,0.0013)\n",
    "    ax3.set_ylim(ax1.get_ylim())\n",
    "    ax2.set_xlim(ax1.get_xlim())\n",
    "    ax2.set_ylim(0,0.0005)\n",
    "    xpdf = normpdf(xrange,mu,sgm)\n",
    "    \n",
    "    xrange2 = xrange[xrange<max_sbk]\n",
    "    ypdf_a = normpdf(np.array([inverse(xx) for xx in xrange2]),mu,sgm) #*np.array([diff_inverse(xx) for xx in xrange2])\n",
    "    ypdf_a = ypdf_a*np.array([diff_inverse(xx) for xx in xrange2])\n",
    "    ypdf_b = np.array([normpdf(interpolate(y_sbk,x_hbv,yy),mu,sgm) for yy in xrange2])\n",
    "    ypdf_b = ypdf_b * np.array([interpolate(dxdy['y'],dxdy['dxdy'],yy) for yy in xrange2]) \n",
    "        \n",
    "    ax2.plot(xrange,xpdf,'-',label='HBV')\n",
    "    ax3.plot(ypdf_a,xrange2,'-',linewidth=4.0,label='SOBEK')\n",
    "    ax3.plot(ypdf_b,xrange2,'-',linewidth=4.0,label='SOBEK')\n",
    "    ax2.plot(np.array([25000,25000]),np.array([0,normpdf(25000,mu,sgm)]),'r--')\n",
    "    ax3.plot(ax1.get_xlim(),[max_sbk,max_sbk],'g--')\n",
    "    if plot_levels:\n",
    "        ax3.plot(ax1.get_xlim(),[mu1,mu1],'c--')\n",
    "        ax3.plot(ax1.get_xlim(),[mu2,mu2],'c--')\n",
    "        ax3.plot(ax1.get_xlim(),[mu3,mu3],'c--')\n",
    "        ax3.plot(ax1.get_xlim(),[mu4,mu4],'c--')\n",
    "\n",
    "    \n",
    "    xtail=xrange[xrange>25000]\n",
    "    ytail=xpdf[xrange>25000]\n",
    "    ax2.fill_between(xtail,0,ytail)\n",
    "    ax1.set_title('Transformatie van de dichtheid onder regression_2018')\n",
    "\n",
    "    xlbl = ax1.set_xlabel('$Q_h [m^3 s^{-1}]$')\n",
    "    ylbl = ax1.set_ylabel('$Q_h [m^3 s^{-1}]$')\n",
    "    # lgnd = ax1.legend()\n",
    "    return ax1\n",
    "\n",
    "interact(update_transform4)    "
   ]
  },
  {
   "cell_type": "code",
   "execution_count": 78,
   "metadata": {},
   "outputs": [
    {
     "data": {
      "application/vnd.jupyter.widget-view+json": {
       "model_id": "09518f64023e40598ebbe134b46662a2",
       "version_major": 2,
       "version_minor": 0
      },
      "text/plain": [
       "interactive(children=(FloatSlider(value=20000.0, continuous_update=False, description='$\\\\mu$', max=26000.0, m…"
      ]
     },
     "metadata": {},
     "output_type": "display_data"
    },
    {
     "data": {
      "application/vnd.jupyter.widget-view+json": {
       "model_id": "a6f09129589b44909bf36b2832ae3bee",
       "version_major": 2,
       "version_minor": 0
      },
      "text/plain": [
       "interactive(children=(FloatSlider(value=15000.0, continuous_update=False, description='mu_hbv', max=25000.0, m…"
      ]
     },
     "metadata": {},
     "output_type": "display_data"
    },
    {
     "data": {
      "text/plain": [
       "<function __main__.update_histogram(mu_hbv=FloatSlider(value=15000.0, continuous_update=False, description='mu_hbv', max=25000.0, min=10000.0, step=500.0), sigma_hbv=FloatSlider(value=1000.0, continuous_update=False, description='sigma_hbv', max=10000.0, min=100.0, step=500.0))>"
      ]
     },
     "execution_count": 78,
     "metadata": {},
     "output_type": "execute_result"
    }
   ],
   "source": [
    "def normpdf(xx,mu,sigma):\n",
    "    return (1./(sigma*sqrt(2*pi))*np.exp(-(xx-mu)**2/2./sigma**2))\n",
    "\n",
    "xrange = np.array(list(range(0,30000,25)))\n",
    "mu0 = 20000\n",
    "sigma0=1000\n",
    "def update_transform2(mu=widgets.FloatSlider(min=5000, max=26000, step=100, value=mu0, continuous_update=False, description='$\\mu$'),sgm=widgets.FloatSlider(min=200, max=10000, step=50, value=sigma0, continuous_update=False, description='$\\sigma$')):\n",
    "#def update_betafit(sigma=widgets.FloatSlider(min=log(0.1*sigma0), max=log(10*sigma0), step=0.01, value=sigma0, continuous_update=False)):\n",
    "    fig = plt.figure(figsize=(15,8))\n",
    "    ax1 = fig.add_subplot(1, 1, 1)\n",
    "    xpdf = normpdf(xrange,mu,sgm)\n",
    "    xrange2 = xrange[xrange<max_sbk]\n",
    "    ypdf = np.array([normpdf(interpolate(y_sbk,x_hbv,yy),mu,sgm) for yy in xrange2])\n",
    "    ypdf = ypdf * np.array([interpolate(dxdy['y'],dxdy['dxdy'],yy) for yy in xrange2]) \n",
    "        \n",
    "    ax1.plot(xrange,xpdf,'-',label='HBV')\n",
    "    ax1.plot(xrange2,ypdf,'-',linewidth=4.0,label='SOBEK')\n",
    "    ax1.plot([max_sbk,max_sbk],ax1.get_ylim(),'g--')\n",
    "    ax1.plot(np.array([25000,25000]),np.array([0,normpdf(25000,mu,sgm)]),'r--')\n",
    "    \n",
    "    xtail=xrange[xrange>25000]\n",
    "    ytail=xpdf[xrange>25000]\n",
    "    ax1.fill_between(xtail,0,ytail)\n",
    "    lgnd=ax1.legend()\n",
    "    ax1.set_title('Transformatie van de dichtheid onder regression_2018')\n",
    "    \n",
    "    return ax1\n",
    "interact(update_transform2)\n",
    "\n",
    "nx0=10000\n",
    "nbin0=1000\n",
    "\n",
    "def update_histogram(mu_hbv=widgets.FloatSlider(min=10000, max=25000, step=500, value=15000, continuous_update=False),sigma_hbv=widgets.FloatSlider(min=100, max=10000, step=500, value=1000, continuous_update=False)):\n",
    "    nx = nx0\n",
    "    nbin = nbin0\n",
    "    fig = plt.figure(figsize=(15,8))\n",
    "    ax1 = fig.add_subplot(1, 1, 1)\n",
    "    q_hbv=np.random.normal(mu_hbv,sigma_hbv,nx)\n",
    "    q_sbk=regression_2018(q_hbv)\n",
    "    result_hbv = ax1.hist(q_hbv, bins = nbin, density=True)\n",
    "    result_sbk = ax1.hist(q_sbk, bins = nbin, density=True)\n",
    "    ax1.set_xlim(9000,35000)\n",
    "    ax1.set_ylim(0,0.00012)\n",
    "#   ax1.plot([max_sbk,max_sbk],ax1.get_ylim(),'r--')\n",
    "    print(sum(result_hbv[0]))\n",
    "    return (ax1)\n",
    "    \n",
    "interact(update_histogram)"
   ]
  },
  {
   "cell_type": "code",
   "execution_count": 82,
   "metadata": {},
   "outputs": [],
   "source": [
    "# Load ensembles into dictionaries\n",
    "# Read the file into a dictionary, labelled by event->timeseries\n",
    "datafile = 'read_Qmax_sums_results.csv'\n",
    "sep = ';'\n",
    "with open(datafile,\"r\") as fnin:\n",
    "    line = fnin.readline().strip()\n",
    "    colnames = re.sub(r'[^\\x00-\\x7F]','', line).split(sep)\n",
    "    ensembles = { colname:[] for colname in colnames}\n",
    "    while line:\n",
    "        line = fnin.readline()\n",
    "        linesplit = line.strip().split(sep)\n",
    "        for i in range(len(linesplit)):\n",
    "            if linesplit[i]:\n",
    "                try:\n",
    "                    ensembles[colnames[i]].append(float(linesplit[i].replace(',','.')))\n",
    "                except:\n",
    "                    ensembles[colnames[i]].append(linesplit[i])\n"
   ]
  },
  {
   "cell_type": "code",
   "execution_count": 83,
   "metadata": {},
   "outputs": [],
   "source": [
    "# Select realizations from ensembles:\n",
    "first_realization = 0\n",
    "last_realization = 100\n",
    "refnr = 113\n",
    "\n",
    "label2nr = {}\n",
    "rownames = ensembles['Scenario']\n",
    "for i in range(len(rownames)):\n",
    "    label2nr[rownames[i]] = i\n",
    "selected = ['Sum%d'%dd for dd in range (first_realization,last_realization+1)]    # selected labels for realizations\n",
    "selnr = [label2nr[rowname] for rowname in selected]"
   ]
  },
  {
   "cell_type": "code",
   "execution_count": 85,
   "metadata": {},
   "outputs": [],
   "source": [
    "# Determine min, max, alpha, beta for each ensemble\n",
    "irow_ref = label2nr['Sum%d'%refnr]\n",
    "results_m = {}\n",
    "for icol in range(1,len(colnames)): \n",
    "    standard=ensembles[colnames[icol]][irow_ref]\n",
    "    sample=np.array([ensembles[colnames[icol]][i] for i in selnr])\n",
    "    est,var = fb.fitBetaMomentsJack(sample)\n",
    "    results_m[colnames[icol]]={'estimate': est, 'variance':var, 'standard': standard}\n",
    "    # print ens"
   ]
  },
  {
   "cell_type": "code",
   "execution_count": 86,
   "metadata": {},
   "outputs": [],
   "source": [
    "a = np.array([])\n",
    "b = np.array([])\n",
    "alpha = np.array([])\n",
    "beta = np.array([])\n",
    "std = np.array([])\n",
    "\n",
    "a_2se = np.array([])\n",
    "b_2se = np.array([])\n",
    "alpha_2se = np.array([])\n",
    "beta_2se = np.array([])\n",
    "\n",
    "lbl = []\n",
    "for label in results_m.keys():\n",
    "    std = np.append(std,results_m[label]['standard'])\n",
    "    alpha = np.append(alpha,results_m[label]['estimate'][2])\n",
    "    beta = np.append(beta,results_m[label]['estimate'][3])\n",
    "    a = np.append(a,results_m[label]['estimate'][0])\n",
    "    b = np.append(b,results_m[label]['estimate'][1])\n",
    "    alpha_2se = np.append(alpha,results_m[label]['variance'][2])\n",
    "    beta_2se = np.append(beta,results_m[label]['variance'][3])\n",
    "    a_2se = np.append(a,results_m[label]['variance'][0])\n",
    "    b_2se = np.append(b,results_m[label]['variance'][1])\n",
    "    lbl.append(label)\n"
   ]
  },
  {
   "cell_type": "code",
   "execution_count": 100,
   "metadata": {},
   "outputs": [],
   "source": [
    "ensemble_abcissa = np.array([])\n",
    "ensemble_ordinate = np.array([])\n",
    "ensemble_names=[key for key in ensembles.keys()]\n",
    "for i in range(1,len(ensemble_names)):\n",
    "    for ensemble_value in ensembles[ensemble_names[i]]:\n",
    "        ensemble_abcissa = np.append(ensemble_abcissa,std[i-1])\n",
    "        ensemble_ordinate = np.append(ensemble_ordinate,ensemble_value)\n",
    "q_hbv_ensemble = np.array([interpolate(y_sbk,x_hbv,q_sbk) for q_sbk in ensemble_abcissa])"
   ]
  },
  {
   "cell_type": "code",
   "execution_count": 103,
   "metadata": {},
   "outputs": [
    {
     "data": {
      "image/png": "[encoded data removed]",
      "text/plain": [
       "<Figure size 1080x576 with 1 Axes>"
      ]
     },
     "metadata": {
      "needs_background": "light"
     },
     "output_type": "display_data"
    }
   ],
   "source": [
    "x = list(range(100,40000,100))\n",
    "y = regression_2018(x)    \n",
    "fig = plt.figure(figsize=(15,8))\n",
    "ax1 = fig.add_subplot(1, 1, 1)\n",
    "\n",
    "ax1.plot(x,y,'r-',label='regression_2018')\n",
    "# ax1.plot(x,x,'--')\n",
    "max_sbk=max(y)\n",
    "\n",
    "# ax1.plot(ax1.get_xlim(),[max_sbk,max_sbk],'r--')\n",
    "xx=np.array(x)\n",
    "approx=np.array([forward(xi) for xi in xx])\n",
    "ax1.plot(xx,approx,'b--',linewidth=4.0,label='exponentiële  benadering')\n",
    "ax1.plot(q_hbv_ensemble,ensemble_ordinate,'.')\n",
    "# ax1.set_xlim(12000,17000)\n",
    "# ax1.set_ylim(10000,20000)\n",
    "ax1.grid()\n",
    "ax1.grid()\n",
    "xlbl = ax1.set_xlabel('$Q_h [m^3 s^{-1}]$')\n",
    "ylbl = ax1.set_ylabel('$Q_h [m^3 s^{-1}]$')\n",
    "lgnd = ax1.legend()"
   ]
  },
  {
   "cell_type": "code",
   "execution_count": 110,
   "metadata": {},
   "outputs": [
    {
     "data": {
      "text/plain": [
       "[<matplotlib.lines.Line2D at 0x2468f49ab38>]"
      ]
     },
     "execution_count": 110,
     "metadata": {},
     "output_type": "execute_result"
    },
    {
     "data": {
      "image/png": "[encoded data removed]",
      "text/plain": [
       "<Figure size 1080x576 with 1 Axes>"
      ]
     },
     "metadata": {
      "needs_background": "light"
     },
     "output_type": "display_data"
    }
   ],
   "source": [
    "fig = plt.figure(figsize=(15,8))\n",
    "ax1 = fig.add_subplot(1, 1, 1)\n",
    "ax1.plot(q_hbv_ensemble,'+')\n"
   ]
  },
  {
   "cell_type": "code",
   "execution_count": 80,
   "metadata": {},
   "outputs": [
    {
     "data": {
      "image/png": "[encoded data removed]",
      "text/plain": [
       "<Figure size 1080x576 with 1 Axes>"
      ]
     },
     "metadata": {
      "needs_background": "light"
     },
     "output_type": "display_data"
    }
   ],
   "source": [
    "# straight lines aproximation:\n",
    "a = 1                             # for small x: ax + b\n",
    "b = 2\n",
    "c = -0.04                          # for large x: cx + d\n",
    "d = 20000\n",
    "x = np.array(list(range(0,400000,100)))\n",
    "y1 = a*x + b\n",
    "y2 = c*x + d\n",
    "fig = plt.figure(figsize=(15,8))\n",
    "ax1 = fig.add_subplot(1, 1, 1)\n",
    "ax1.plot(x,y1,'r-')\n",
    "ax1.plot(x,y2,'b-')\n",
    "\n",
    "e21 = c\n",
    "e22 = d\n",
    "e11 = a + (a/d)*(b/(1.-b/d))\n",
    "e12 = (b/(1.-b/d))\n",
    "\n",
    "y3 = (e11*x + e12)/(1.+(e11*x + e12)/(e21*x + e22))\n",
    "ax1.plot(x,y3,'g--')\n",
    "ax1.set_ylim(0,100000)\n",
    "\n",
    "xs = (d-b)/(a-c)\n",
    "alp=0.001\n",
    "y5 = []\n",
    "for xx in x:\n",
    "    y5.append((np.exp(alp*(xx-xs))*(a*x+b)+np.exp(alp*(xs-xx))*(c*x+d))/(exp(alp*(xx-xs))+exp(alp*(xs-xx))))\n",
    "#ax1.plot(x,np.array(y5),'c--')"
   ]
  },
  {
   "cell_type": "code",
   "execution_count": 51,
   "metadata": {},
   "outputs": [],
   "source": [
    "a=[2,1,3]\n",
    "a.sort()"
   ]
  },
  {
   "cell_type": "code",
   "execution_count": 52,
   "metadata": {},
   "outputs": [
    {
     "data": {
      "text/plain": [
       "[1, 2, 3]"
      ]
     },
     "execution_count": 52,
     "metadata": {},
     "output_type": "execute_result"
    }
   ],
   "source": [
    "a"
   ]
  },
  {
   "cell_type": "code",
   "execution_count": 136,
   "metadata": {},
   "outputs": [
    {
     "data": {
      "text/plain": [
       "10656.0223676661"
      ]
     },
     "execution_count": 136,
     "metadata": {},
     "output_type": "execute_result"
    }
   ],
   "source": [
    "1100000**(2./3.)"
   ]
  },
  {
   "cell_type": "code",
   "execution_count": 23,
   "metadata": {},
   "outputs": [],
   "source": [
    "x=np.array(list(range(10)))**2."
   ]
  },
  {
   "cell_type": "code",
   "execution_count": 28,
   "metadata": {},
   "outputs": [
    {
     "data": {
      "text/plain": [
       "array([ 0.5,  2.5,  6.5, 12.5, 20.5, 30.5, 42.5, 56.5, 72.5])"
      ]
     },
     "execution_count": 28,
     "metadata": {},
     "output_type": "execute_result"
    }
   ],
   "source": [
    "(x[1:]+x[:-1])*0.5"
   ]
  },
  {
   "cell_type": "code",
   "execution_count": null,
   "metadata": {},
   "outputs": [],
   "source": []
  }
 ],
 "metadata": {
  "kernelspec": {
   "display_name": "Python 3",
   "language": "python",
   "name": "python3"
  },
  "language_info": {
   "codemirror_mode": {
    "name": "ipython",
    "version": 3
   },
   "file_extension": ".py",
   "mimetype": "text/x-python",
   "name": "python",
   "nbconvert_exporter": "python",
   "pygments_lexer": "ipython3",
   "version": "3.7.1"
  }
 },
 "nbformat": 4,
 "nbformat_minor": 4
}
