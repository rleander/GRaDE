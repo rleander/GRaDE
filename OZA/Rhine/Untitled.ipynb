{
 "cells": [
  {
   "cell_type": "markdown",
   "metadata": {},
   "source": [
    "<h2>Transformatie HBV $\\rightarrow$ Sobek (aftopping)</h2>\n",
    "Volgens Henk vd Boogaard:\n",
    "    $$Q_s\\,=\\,C\\,+\\,r_1Q_h\\,+\\,(r_2-r_1)\\sigma_1\\log\\left(1+\\exp\\left(\\frac{Q_h-\\mu_1}{\\sigma_1}\\right)\\right)$$\n",
    "    $$\\phantom{Q_s\\,=\\,C\\,+\\,r_1Q_h\\,}+\\,(r_3-r_2)\\,\\sigma_2\\log\\left(1+\\exp\\left(\\frac{Q_h-\\mu_2}{\\sigma_2}\\right)\\right)$$    \n",
    "    $$\\phantom{Q_s\\,=\\,C\\,+\\,r_1Q_h\\,}+\\,(r_4-r_3)\\,\\sigma_3\\log\\left(1+\\exp\\left(\\frac{Q_h-\\mu_3}{\\sigma_3}\\right)\\right)$$\n",
    "    $$\\phantom{Q_s\\,=\\,C\\,+\\,r_1Q_h\\,}+\\,(r_5-r_4)\\,\\sigma_4\\log\\left(1+\\exp\\left(\\frac{Q_h-\\mu_4}{\\sigma_4}\\right)\\right)$$\n",
    "    \n",
    "Generalisatie:\n",
    "$$\n",
    "Q_s\\,=\\,C\\,+\\,\n",
    "\\sum\\limits_{i=1}^n\\left(\n",
    "r_i\\,-\\,r_{i-1}\n",
    "\\right)\n",
    "\\sigma_i\\,\\log\\left(1+\\exp\\left(\\frac{Q_h-\\mu_i}{\\sigma_i}\\right)\\right)\n",
    "$$\n",
    "Voor $Q_h\\in\\left[\\mu_{j-1},\\mu_j\\right]$ is de afgeleide bij benadering $r_j$. $C$ is de asafnijding bij $Q_h=0$ en $\\sigma_j$ bepaalt de scherpte van de knik tussen het interval $[\\mu_{j-1},\\mu_j]$ en $[\\mu_j,\\mu_{j+1}]$, oftewel ter hoogte van het punt $Q_h=\\mu_j$"
   ]
  },
  {
   "cell_type": "code",
   "execution_count": 2,
   "metadata": {},
   "outputs": [],
   "source": [
    "import dill "
   ]
  },
  {
   "cell_type": "code",
   "execution_count": 1,
   "metadata": {},
   "outputs": [],
   "source": [
    "import math\n",
    "def regression_2018(x, fit_regr=False):\n",
    "    c      = 342.254390\n",
    "    r1     = 0.91577902\n",
    "    mu1    = 14442.2780 #ORIG\n",
    "    sigma1 = 307.118620\n",
    "    r2     = 0.32752076\n",
    "    mu2    = 18573.2200 #ORIG\n",
    "    sigma2 = 2.71804449E-14\n",
    "    r3     = 0.53632634 #ORIG\n",
    "    mu3    = 21904.1250 #ORIG\n",
    "    sigma3 = 136.807970  \n",
    "    r4     = 0.21296795\n",
    "    mu4    = 26177.6500 #ORIG\n",
    "    sigma4 = 79.5476640\n",
    "    r5     = 0.00000000\n",
    "    if fit_regr == True:\n",
    "        mu1    = 14800.0000\n",
    "        mu2    = 17750.0000\n",
    "        r3     = 0.75000000\n",
    "        mu3    = 20000.0000\n",
    "    \n",
    "    x_ = []\n",
    "    for value in x:\n",
    "        z1 = (value-mu1)/sigma1\n",
    "        z2 = (value-mu2)/sigma2\n",
    "        z3 = (value-mu3)/sigma3\n",
    "        z4 = (value-mu4)/sigma4\n",
    "        \n",
    "        a1 = (r1*value)\n",
    "        a2 = ((r2-r1)*sigma1*np.log(1+np.exp(z1)))\n",
    "        \n",
    "        try:\n",
    "            a3 = ((r3-r2)*sigma2*np.log(1+math.exp(z2)))\n",
    "        except:\n",
    "            a3 = ((r3-r2)*sigma2*z2)\n",
    "        a4 = ((r4-r3)*sigma3*np.log(1+np.exp(z3)))\n",
    "        a5 = ((r5-r4)*sigma4*np.log(1+np.exp(z4)))\n",
    "        \n",
    "        y = c + a1 + a2 + a3 + a4 + a5\n",
    "        x_.append(y)\n",
    "\n",
    "    return x_\n"
   ]
  },
  {
   "cell_type": "code",
   "execution_count": 2,
   "metadata": {},
   "outputs": [],
   "source": [
    "import graphviz"
   ]
  },
  {
   "cell_type": "code",
   "execution_count": 1,
   "metadata": {},
   "outputs": [],
   "source": [
    "r=348414720"
   ]
  },
  {
   "cell_type": "code",
   "execution_count": 5,
   "metadata": {},
   "outputs": [
    {
     "data": {
      "text/plain": [
       "348414720"
      ]
     },
     "execution_count": 5,
     "metadata": {},
     "output_type": "execute_result"
    }
   ],
   "source": [
    "r"
   ]
  },
  {
   "cell_type": "code",
   "execution_count": 4,
   "metadata": {},
   "outputs": [],
   "source": [
    "dill.dump_session('test.db')"
   ]
  },
  {
   "cell_type": "code",
   "execution_count": null,
   "metadata": {},
   "outputs": [],
   "source": []
  }
 ],
 "metadata": {
  "kernelspec": {
   "display_name": "Python 3",
   "language": "python",
   "name": "python3"
  },
  "language_info": {
   "codemirror_mode": {
    "name": "ipython",
    "version": 3
   },
   "file_extension": ".py",
   "mimetype": "text/x-python",
   "name": "python",
   "nbconvert_exporter": "python",
   "pygments_lexer": "ipython3",
   "version": "3.7.1"
  }
 },
 "nbformat": 4,
 "nbformat_minor": 4
}
