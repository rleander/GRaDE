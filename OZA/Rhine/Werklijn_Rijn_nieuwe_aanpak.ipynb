{
 "cells": [
  {
   "cell_type": "markdown",
   "metadata": {},
   "source": [
    "<H2>Werklijn Rijn nieuwe aanpak</H2>"
   ]
  },
  {
   "cell_type": "code",
   "execution_count": null,
   "metadata": {},
   "outputs": [],
   "source": [
    "# lijst met imports"
   ]
  },
  {
   "cell_type": "markdown",
   "metadata": {},
   "source": [
    "<h3>1. Extrapoleer elk van de 50 sets afvoerextremen uit de HBV jackknife simulaties.</h3>\n",
    "De extrapolatie op basis van Weissman (logaritmisch)."
   ]
  },
  {
   "cell_type": "code",
   "execution_count": null,
   "metadata": {},
   "outputs": [],
   "source": []
  },
  {
   "cell_type": "markdown",
   "metadata": {},
   "source": [
    "<h3>1. Extrapoleer elk van de 50 sets afvoerextremen uit de HBV jackknife simulaties.</h3>\n",
    "De extrapolatie op basis van Weissman (logaritmisch)."
   ]
  },
  {
   "cell_type": "code",
   "execution_count": null,
   "metadata": {},
   "outputs": [],
   "source": []
  },
  {
   "cell_type": "markdown",
   "metadata": {},
   "source": [
    "<h3>3. Transformeer elke set afzondelijk naar SOBEK afvoerextremen</h3>\n",
    "<tt>Regressie2018</tt> van Henk vd Boogaard kan hiervoor worden gebruikt"
   ]
  },
  {
   "cell_type": "code",
   "execution_count": null,
   "metadata": {},
   "outputs": [],
   "source": []
  },
  {
   "cell_type": "markdown",
   "metadata": {},
   "source": [
    "<h3>4. Trek voor elk van de 50 afvoerextremen voor één herhalingstijd uit de hydraulische onzekerheid </h3>\n",
    "Dit zijn de Beta verdelingen waarvan de parameters eerder zijn verkregen uit de SOBEK experimenten. Daarvoor is een functioneel verband gefit. DIe onzekerheid stelt dat bij een gegeven referentie SOBEK afvoer, de <i>werkelijke</i> afvoer nog kan variëren doordat de parameters (dus eigenlijk de transformatie zelf?) niet helemaal zeker zijn."
   ]
  },
  {
   "cell_type": "code",
   "execution_count": null,
   "metadata": {},
   "outputs": [],
   "source": []
  },
  {
   "cell_type": "markdown",
   "metadata": {},
   "source": [
    "<h3>5. Fit aan de verkregen populatie een verdeling (Beta?? Weibull of Normaal)</h3>\n",
    "De parameters voor de uiteindelijke onzekerheid moeten niet per herhalingstijd, maar per referentie afvoer worden afgeleid. Voor deze referentie bij een populatie hebben we twee mogelijkheden:\n",
    "    <ul>\n",
    "        <li> De met <tt>Regressie2018</tt> getransformeerde gemiddelde HBV afvoer</li>\n",
    "        <li> Het gemiddelde van de populatie </li>\n",
    "    </ul>\n",
    "    Het is <i>deze</i> referentie afvoer die van de locatie parameter van de gefitte verdeling moet worden afgetrokken, want uiteindelijk wordt een trekking uit de gefitte verdeling weer bij deze referentie afvoer opgeteld, zodat men weer de juiste verdeling van afoeren bij een gegeven herhalingstijd krijgt."
   ]
  },
  {
   "cell_type": "code",
   "execution_count": null,
   "metadata": {},
   "outputs": [],
   "source": []
  },
  {
   "cell_type": "markdown",
   "metadata": {},
   "source": []
  }
 ],
 "metadata": {
  "kernelspec": {
   "display_name": "Python 3",
   "language": "python",
   "name": "python3"
  },
  "language_info": {
   "codemirror_mode": {
    "name": "ipython",
    "version": 3
   },
   "file_extension": ".py",
   "mimetype": "text/x-python",
   "name": "python",
   "nbconvert_exporter": "python",
   "pygments_lexer": "ipython3",
   "version": "3.7.1"
  }
 },
 "nbformat": 4,
 "nbformat_minor": 4
}
