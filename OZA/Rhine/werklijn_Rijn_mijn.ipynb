{
 "cells": [
  {
   "cell_type": "code",
   "execution_count": 1,
   "metadata": {},
   "outputs": [],
   "source": [
    "import numpy as np\n",
    "import os, sys, re\n",
    "from math import *\n",
    "import matplotlib.pyplot as plt\n",
    "from tqdm.notebook import tqdm\n",
    "from tekal import *\n",
    "from uitintegratie import *\n",
    "import pandas as pd\n",
    "import dill\n",
    "\n",
    "import numpy.ma as ma\n",
    "import fit_beta as fb\n",
    "from gumplot import *\n",
    "import scipy.special as scs\n",
    "import bisect\n",
    "from IPython.lib.deepreload import reload as dreload\n",
    "import inspect"
   ]
  },
  {
   "cell_type": "markdown",
   "metadata": {},
   "source": [
    "<h2>Stappen om tot de werklijn te komen mét gecombineerde onzekerheid</h2>\n",
    "<ul>\n",
    "    <li> Er is uitgegaan van de afvoer jaarmaxima berekend door HBV op basis van de <a href=\"#ref2021\">referentie simulatie</a> met de neerslaggenerator, uitgedrukt als $\\mu_{HBV}$</li>\n",
    "    <li> De HBV afvoermaxima $\\mu_{HBV}$ worden getransformeerd naar Sobek afvoermaxima $\\mu_{SBK}$ middels de     regressie         (H.vd Boogaard)</li>\n",
    "<li> <b>Onzekerheid Meteo + HBV:</b></li>    \n",
    "    <ul>\n",
    "        <li> De onzekerheid van deze maxima wordt voorgesteld als een verstoring op $\\mu_{HBV}$ met een verdeling $N(0,\\sigma_{HBV})$</li>\n",
    "        <li> Deze onzekerheid is vastgesteld met behulp van een Jackknife analyse (gevoeligheid neerslagdata) en een GLUE analyse (HBV modelonzekerheid)</li>\n",
    "    </ul>\n",
    "    <li> <b>Onzekerheid hydraulica:</b></li>    \n",
    "    <ul>\n",
    "        <li> Modelstudies zijn uitgevoerd met SOBEK onder variërende hydraulische condities (parameter variaties) voor specifieke cases.</li>\n",
    "        <li> Per case vormen de vekregen SOBEK resultaten voor verwschillende parametersets een populatie.</li>\n",
    "        <li> Aan elke populatie zijn de parameters $\\alpha, \\beta, A, B$ van de 4-parameter Beta verdeling gefit</li>\n",
    "        <li> Uit de parametersets </li>\n",
    "        <li> Centreer een beta verdeling om nul, gebaseerd met parameters die een functie zijn van $\\mu_{sobek}$</li>\n",
    "        <li> Sample de gecombineerde verdeling:\n",
    "            <ul>\n",
    "                <li> Trek uit de normale verdeling voor de \"meteo/jackknife onzekerheid\" (!nb: een HBV resultaat)</li>\n",
    "                <li> Trek uit de bijbehorende beta verdeling</li>\n",
    "                <li> sommeer</li>\n",
    "            </ul>\n",
    "        <li> Fit nieuwe beta parameters </li>\n",
    "        <li> Bepaal betrouwbaarheids intervallen </li>\n",
    "    </ul>\n",
    "</ul>"
   ]
  },
  {
   "cell_type": "code",
   "execution_count": 2,
   "metadata": {},
   "outputs": [],
   "source": [
    "# Relevante herhaaltijden\n",
    "Tretlist = [10,100,1000,1250,3000,10000,50000,100000,200000,300000,400000]"
   ]
  },
  {
   "cell_type": "markdown",
   "metadata": {},
   "source": [
    "<h3>Regressie HBV-to-SOBEK Rijn</h3>\n",
    "Uit regressie is een relatie bepaald uit de HBV-(piek)afvoeren $Q_h$ en de bijbehorende Sobek (piek)afvoeren $Q_s$ als volgt (Henk vd Boogaard, <tt>regression_2018</tt>):\n",
    "    $$Q_s\\,=\\,C\\,+\\,r_1Q_h\\,+\\,(r_2-r_1)\\sigma_1\\log\\left(1+\\exp\\left(\\frac{Q_h-\\mu_1}{\\sigma_1}\\right)\\right)$$\n",
    "    $$\\phantom{Q_s\\,=\\,C\\,+\\,r_1Q_h\\,}+\\,(r_3-r_2)\\,\\sigma_2\\log\\left(1+\\exp\\left(\\frac{Q_h-\\mu_2}{\\sigma_2}\\right)\\right)$$    \n",
    "    $$\\phantom{Q_s\\,=\\,C\\,+\\,r_1Q_h\\,}+\\,(r_4-r_3)\\,\\sigma_3\\log\\left(1+\\exp\\left(\\frac{Q_h-\\mu_3}{\\sigma_3}\\right)\\right)$$\n",
    "    $$\\phantom{Q_s\\,=\\,C\\,+\\,r_1Q_h\\,}+\\,(r_5-r_4)\\,\\sigma_4\\log\\left(1+\\exp\\left(\\frac{Q_h-\\mu_4}{\\sigma_4}\\right)\\right)$$"
   ]
  },
  {
   "cell_type": "code",
   "execution_count": 3,
   "metadata": {},
   "outputs": [],
   "source": [
    "import math   # Crucial import !!!\n",
    "def regression_2018(x, fit_regr=False):\n",
    "    c      = 342.254390\n",
    "    r1     = 0.91577902\n",
    "    mu1    = 14442.2780 #ORIG\n",
    "    sigma1 = 307.118620\n",
    "    r2     = 0.32752076\n",
    "    mu2    = 18573.2200 #ORIG\n",
    "    sigma2 = 2.71804449E-14\n",
    "    r3     = 0.53632634 #ORIG\n",
    "    mu3    = 21904.1250 #ORIG\n",
    "    sigma3 = 136.807970  \n",
    "    r4     = 0.21296795\n",
    "    mu4    = 26177.6500 #ORIG\n",
    "    sigma4 = 79.5476640\n",
    "    r5     = 0.00000000\n",
    "    if fit_regr == True:\n",
    "        mu1    = 14800.0000\n",
    "        mu2    = 17750.0000\n",
    "        r3     = 0.75000000\n",
    "        mu3    = 20000.0000\n",
    "    \n",
    "    x_ = []\n",
    "    for value in x:\n",
    "        z1 = (value-mu1)/sigma1\n",
    "        z2 = (value-mu2)/sigma2\n",
    "        z3 = (value-mu3)/sigma3\n",
    "        z4 = (value-mu4)/sigma4\n",
    "        \n",
    "        a1 = (r1*value)\n",
    "        a2 = ((r2-r1)*sigma1*np.log(1+np.exp(z1)))\n",
    "        try:\n",
    "            a3 = ((r3-r2)*sigma2*np.log(1+math.exp(z2)))\n",
    "        except:\n",
    "            a3 = ((r3-r2)*sigma2*z2)\n",
    "        a4 = ((r4-r3)*sigma3*np.log(1+np.exp(z3)))\n",
    "        a5 = ((r5-r4)*sigma4*np.log(1+np.exp(z4)))\n",
    "        \n",
    "        y = c + a1 + a2 + a3 + a4 + a5\n",
    "        x_.append(y)\n",
    "\n",
    "    return x_"
   ]
  },
  {
   "cell_type": "code",
   "execution_count": 4,
   "metadata": {},
   "outputs": [],
   "source": [
    "# Lees oude werklijn\n",
    "column_Tret  = 8\n",
    "column_Qref  = 9\n",
    "column_Sigma = 10\n",
    "\n",
    "with open('./oude_getallen.csv',\"r\") as fnin:\n",
    "    sgv_list = []\n",
    "    mu_list = []\n",
    "    sigma_list = []\n",
    "    while True:\n",
    "        line = fnin.readline()\n",
    "        if not line:\n",
    "            break\n",
    "        if line[0] in '#*':\n",
    "            continue\n",
    "        columns = line.strip().split(';')\n",
    "        Tret = float(columns[column_Tret-1])\n",
    "        mu_value = float(columns[column_Qref-1])\n",
    "        sigma_value = float(columns[column_Sigma-1])\n",
    "        sgv_list.append(-np.log(-np.log(1.-1./Tret)))\n",
    "        mu_list.append(mu_value)\n",
    "        sigma_list.append(sigma_value)\n",
    "nx_old = len(sgv_list)        \n",
    "np_sgv_old = np.array(sgv_list)        \n",
    "np_qref_old = np.array(mu_list)\n",
    "np_sigma_old = np.array(sigma_list)\n",
    "rijn_old={'sgv':np.array(sgv_list),'mu':np.array(mu_list),'sigma':np.array(sigma_list)}"
   ]
  },
  {
   "cell_type": "markdown",
   "metadata": {},
   "source": [
    "<H3> Referentie werklijn voor de Rijn (2021)</H3>\n",
    "<a id=\"ref2021\"/>"
   ]
  },
  {
   "cell_type": "code",
   "execution_count": 5,
   "metadata": {},
   "outputs": [],
   "source": [
    "# Lees de referentie werklijn voor de Rijn (2021)\n",
    "with open('optimal_slice_mem6d_Fwet_500K_1951-2015_window61_part001-025_MAX.csv',\"r\") as fnin:\n",
    "    qref = []\n",
    "    minimum = 1000000.\n",
    "    while True:\n",
    "        line = fnin.readline()\n",
    "        if not line:\n",
    "            break\n",
    "        syear, sqvalue = line.strip().split(',')\n",
    "        try:\n",
    "            year = int(syear)\n",
    "            qvalue = float(sqvalue)\n",
    "        except:\n",
    "            continue\n",
    "        bisect.insort(qref,qvalue)\n",
    "nx = len(qref)\n",
    "np_qref = np.array(qref)\n",
    "np_sgv = -np.log(-np.log((np.array(list(range(nx)))+1.-0.3)/(nx+0.4)))"
   ]
  },
  {
   "cell_type": "code",
   "execution_count": 6,
   "metadata": {},
   "outputs": [],
   "source": [
    "# Lees TEKAL file met Meteo onzekerheden\n",
    "listTEKALBlocks(\"Final_FreqCurve_Rhine_HBV.tek\")\n",
    "# Lees TEKAL file (Henk vd Boogaard, met HBV onzekerheden)\n",
    "UncMeteo = readTEKAL('Final_FreqCurve_Rhine_HBV.tek','BL01',skip=99)\n",
    "tbl_mu_Meteo = UncMeteo[3]\n",
    "tbl_sigma_Meteo = UncMeteo[5]"
   ]
  },
  {
   "cell_type": "code",
   "execution_count": 7,
   "metadata": {},
   "outputs": [],
   "source": [
    "# Tabel interpolatie\n",
    "def interpolate(x0,y0,x,**kwargs):\n",
    "    ndx=x0.argsort()    # sort on x\n",
    "    xx = x0[ndx]\n",
    "    yy = y0[ndx]\n",
    "    if 'default' in kwargs:\n",
    "        default = np.double(kwargs['default'])\n",
    "    if x<xx[0]:\n",
    "        if 'default' in kwargs:\n",
    "            return default\n",
    "        else:\n",
    "            return yy[0]\n",
    "    if x>xx[-1]:\n",
    "        if 'default' in kwargs:\n",
    "            return default\n",
    "        else:\n",
    "            return yy[-1]\n",
    "    \n",
    "    if 'fraction' in kwargs:\n",
    "        fraction = np.double(kwargs['fraction'])\n",
    "    else:\n",
    "        fraction = -1\n",
    "    \n",
    "    for i in range(len(xx)-1):\n",
    "        if (x>=xx[i] and x<=xx[i+1]):\n",
    "            if fraction<0.0:\n",
    "                w=(x-xx[i])/(xx[i+1]-xx[i])   # use fraction=0.0 for yy[i] and fraction=1.0 for yy[i+1]\n",
    "            else:\n",
    "                w=fraction\n",
    "            return (1.-w)*yy[i] + w*yy[i+1]\n"
   ]
  },
  {
   "cell_type": "code",
   "execution_count": 8,
   "metadata": {},
   "outputs": [
    {
     "data": {
      "application/vnd.jupyter.widget-view+json": {
       "model_id": "7c615de0d159495c8ffb82837718ca47",
       "version_major": 2,
       "version_minor": 0
      },
      "text/plain": [
       "HBox(children=(FloatProgress(value=0.0, max=50001.0), HTML(value='')))"
      ]
     },
     "metadata": {},
     "output_type": "display_data"
    },
    {
     "name": "stdout",
     "output_type": "stream",
     "text": [
      "\n"
     ]
    }
   ],
   "source": [
    "# Voeg de geinterpoleerde sigma's toe als onzekerheid\n",
    "sigma_Meteo = []\n",
    "for i in tqdm(list(range(np_qref.size))):\n",
    "    sigma_Meteo.append(interpolate(tbl_mu_Meteo,tbl_sigma_Meteo,np_qref[i],default=10))\n",
    "np_sigma_Meteo = np.array(sigma_Meteo)\n",
    "\n",
    "rijn_new={'sgv':np_sgv,'mu':np_qref,'sigma':np_sigma_Meteo}"
   ]
  },
  {
   "cell_type": "code",
   "execution_count": 9,
   "metadata": {},
   "outputs": [],
   "source": [
    "# Lees de observaties(blokmaxima, toestand 2004)\n",
    "with open(\"Lobith_HR2006_AM.csv\",\"r\") as fnin:\n",
    "    qhis = []\n",
    "    while True:\n",
    "        line = fnin.readline()\n",
    "        if not line:\n",
    "            break\n",
    "        try:\n",
    "            ss = line.split(';')\n",
    "            year = int(ss[0])\n",
    "            qmax_1977 = float(ss[1])\n",
    "            qmax_2004 = float(ss[2])\n",
    "            bisect.insort(qhis,qmax_2004)\n",
    "        except:\n",
    "            pass\n",
    "nxhis = len(qhis)\n",
    "rijn_obs = {}\n",
    "rijn_obs['sgv'] = -np.log(-np.log((np.array(list(range(nxhis)))+1.-0.3)/(nxhis+0.4)))\n",
    "rijn_obs['mu'] = np.array(qhis)"
   ]
  },
  {
   "cell_type": "code",
   "execution_count": 10,
   "metadata": {
    "scrolled": false
   },
   "outputs": [
    {
     "data": {
      "image/png": "[encoded data removed]",
      "text/plain": [
       "<Figure size 1080x504 with 2 Axes>"
      ]
     },
     "metadata": {
      "needs_background": "light"
     },
     "output_type": "display_data"
    }
   ],
   "source": [
    "#plot oud versus observations\n",
    "plt.plot(rijn_old['sgv'],rijn_old['mu'],'r-',label=\"Oude resultaten SOBEK\")\n",
    "plt.plot(rijn_new['sgv'],regression_2018(rijn_new['mu']),'b-',label=\"Nieuwe resultaten SOBEK\")\n",
    "plt.plot(rijn_obs['sgv'],rijn_obs['mu'],'g*',label=\"Observaties\")\n",
    "ax=plt.gca()\n",
    "xlm = ax.set_xlim(0,13)\n",
    "fig=plt.gcf()\n",
    "fig.set_size_inches(15,7)\n",
    "lgnd = ax.legend(loc=\"upper left\")\n",
    "ax2 = add_gum_axis(Tretlist,ax)\n",
    "ti=ax.set_title('Oude versus nieuwe referentie werklijn met de observaties')\n",
    "ylm = ax.set_ylim(0,20000)"
   ]
  },
  {
   "cell_type": "code",
   "execution_count": 11,
   "metadata": {},
   "outputs": [],
   "source": [
    "# Hulp routines voor de uitintegratie\n",
    "def normal_cdf(x,parms):\n",
    "    mu = parms[0]\n",
    "    sigma = parms[1]\n",
    "    return (1.0 + erf((x-mu) / sigma / sqrt(2.0))) / 2.0\n",
    "\n",
    "def normal_pdf(x,parms):\n",
    "    mu = parms[0]\n",
    "    sigma = parms[1]\n",
    "    return exp(-0.5*((x-mu)/2./sigma)**2)/(sigma*(2*pi)**0.5)"
   ]
  },
  {
   "cell_type": "code",
   "execution_count": 12,
   "metadata": {},
   "outputs": [
    {
     "data": {
      "application/vnd.jupyter.widget-view+json": {
       "model_id": "754de6b707704a09b383d3903b6fa7bd",
       "version_major": 2,
       "version_minor": 0
      },
      "text/plain": [
       "HBox(children=(FloatProgress(value=0.0, max=21.0), HTML(value='')))"
      ]
     },
     "metadata": {},
     "output_type": "display_data"
    },
    {
     "name": "stdout",
     "output_type": "stream",
     "text": [
      "\n"
     ]
    }
   ],
   "source": [
    "# Voer een uitintegratie uit voor de oude resultaten\n",
    "nx_old = len(rijn_old['sgv'])\n",
    "rijn_old['uitintegratie']={}\n",
    "rijn_parms = {'distpar':[(rijn_old['mu'][i] ,rijn_old['sigma'][i]) for i in range(nx_old)],\n",
    "              'F':np.exp(-np.exp(-rijn_old['sgv']))}\n",
    "rijn_old['uitintegratie']['levels'] = np.array(list(range(5000,20000,100)))\n",
    "rijn_cdf = outintegrate(rijn_parms, rijn_old['uitintegratie']['levels'], normal_cdf)\n",
    "rijn_old['uitintegratie']['sgv'] = -np.log(-np.log(rijn_cdf))"
   ]
  },
  {
   "cell_type": "code",
   "execution_count": 13,
   "metadata": {},
   "outputs": [
    {
     "data": {
      "image/png": "[encoded data removed]",
      "text/plain": [
       "<Figure size 1080x504 with 2 Axes>"
      ]
     },
     "metadata": {
      "needs_background": "light"
     },
     "output_type": "display_data"
    }
   ],
   "source": [
    "#plot oud versus observations met \n",
    "plt.plot(rijn_old['sgv'],rijn_old['mu'],'r-',label=\"Oude resultaten, totale onzekerheid\")\n",
    "plt.plot(rijn_old['sgv'],rijn_old['mu']+1.96*rijn_old['sigma'],'r--')\n",
    "plt.plot(rijn_old['sgv'],rijn_old['mu']-1.96*rijn_old['sigma'],'r--')\n",
    "plt.plot(rijn_old['uitintegratie']['sgv'],rijn_old['uitintegratie']['levels'],'k-',label=\"Uitintegratie totale onzekerheid\")\n",
    "plt.plot(rijn_obs['sgv'],rijn_obs['mu'],'g*',label=\"Observaties\")\n",
    "\n",
    "ax=plt.gca()\n",
    "ax.set_xlim(0,13)\n",
    "fig=plt.gcf()\n",
    "fig.set_size_inches(15,7)\n",
    "lgnd = ax.legend(loc=\"upper left\")\n",
    "add_gum_axis(Tretlist,ax)\n",
    "ti=ax.set_title('Oude referentie werklijn met de observaties en onzekerheidsbanden en uitgeïntegreerde')\n",
    "ylm = ax.set_ylim(0,20000)"
   ]
  },
  {
   "cell_type": "code",
   "execution_count": 33,
   "metadata": {},
   "outputs": [
    {
     "name": "stdout",
     "output_type": "stream",
     "text": [
      "        Ref       alpha     beta              A           B    Label\n",
      "17553.90820     3.71201  2.09194    13615.14343 19462.67328    b24000\n",
      "14902.15723     2.62803  1.50101    13412.81502 15745.20368    maxQ_14199_maxV_28.8_year_3345\n",
      "15286.16699     1.77462  1.56257    13709.32447 16841.72014    maxQ_14210_maxV_18.1_year_2288\n",
      "13351.64551     2.03466  1.06650    11795.17034 14115.33281    maxQ_14256_maxV_11.5_year_3236\n",
      "14307.43555     1.61699  1.45716    12767.70517 15810.41097    maxQ_14434_maxV_14.1_year_3126\n",
      "14193.20605     1.33763  1.48444    13180.73558 15434.22470    maxQ_14450_maxV_23.4_year_3048\n",
      "14482.79395     1.45828  1.46577    13095.98703 15817.19115    maxQ_14567_maxV_18.9_year_7445\n",
      "15096.23535     1.54703  1.60232    13823.27269 16404.51866    maxQ_14594_maxV_23.3_year_9987\n",
      "14179.44336     1.64708  1.55112    12614.64039 15610.31952    maxQ_14756_maxV_14.5_year_7191\n",
      "14396.85254     2.01663  2.02840    13369.75899 15641.03664    maxQ_14808_maxV_23.1_year_9093\n",
      "14611.16504     1.66665  1.56763    13431.06997 15854.88345    maxQ_14848_maxV_23.6_year_7451\n",
      "15052.56836     1.94023  1.85683    13445.96350 16726.53511    maxQ_14995_maxV_16.0_year_9555\n",
      "15191.80859     1.69974  1.56526    13524.90222 16680.39026    maxQ_15047_maxV_19.1_year_3884\n",
      "14158.61328     1.44740  1.48132    12805.21671 15533.15113    maxQ_15162_maxV_16.9_year_2826\n",
      "15201.55664     2.70795  1.84662    13587.88891 16488.34871    maxQ_15199_maxV_28.2_year_5313\n",
      "15165.77637     3.60175  2.58381    13176.05359 16758.54330    maxQ_15333_maxV_27.9_year_3710\n",
      "15054.69922     3.22792  2.58651    13310.21530 16679.68185    maxQ_15408_maxV_22.6_year_9875\n",
      "15406.59766     2.42967  1.74017    13730.20587 16398.42838    maxQ_15494_maxV_26.5_year_8336\n",
      "15722.03418     3.08877  1.95572    13256.92852 17209.46765    maxQ_15579_maxV_18.8_year_2831\n",
      "15817.60938     2.97970  2.04933    13526.13868 17358.71853    maxQ_15690_maxV_25.2_year_2944\n",
      "14909.16699     3.79116  3.12512    12973.85352 16716.30068    maxQ_15769_maxV_17.6_year_2168\n",
      "14643.12305     3.50903  3.51583    12936.50830 16628.82647    maxQ_15936_maxV_18.6_year_8232\n",
      "15998.02832     1.99123  1.31175    13878.47915 17048.20589    maxQ_16210_maxV_23.0_year_3284\n",
      "15243.16992     3.67807  2.75254    12868.40688 17039.36949    maxQ_16252_maxV_16.7_year_3423\n",
      "15850.38281     3.46954  2.08529    13134.72618 17260.24809    maxQ_16499_maxV_22.5_year_6390\n",
      "15639.98242     2.88793  1.66410    13311.95813 16760.50617    maxQ_16537_maxV_25.4_year_8516\n",
      "15186.98926     3.53840  2.93319    12914.92407 17115.65597    maxQ_16656_maxV_16.8_year_6253\n",
      "16241.23438     2.75373  1.81044    14083.99838 17353.65013    maxQ_16675_maxV_27.6_year_7706\n",
      "15821.97070     3.26211  2.26305    13171.24556 17591.52593    maxQ_16808_maxV_19.1_year_9324\n",
      "15636.20801     1.36286  0.95268    14282.33126 16325.25820    maxQ_16872_maxV_27.6_year_4891\n",
      "15841.34863     2.79501  1.60519    13118.23545 17104.70216    maxQ_16957_maxV_18.7_year_3236\n",
      "16562.21680     4.21446  2.00369    13210.22215 17656.27440    maxQ_17066_maxV_34.8_year_7593\n",
      "15792.57031     1.86508  1.02140    13533.78198 16691.16932    maxQ_17075_maxV_21.0_year_9681\n",
      "16210.92578     2.05118  1.50786    14283.04306 17276.90026    maxQ_17176_maxV_38.4_year_2560\n",
      "15515.20703     3.18326  1.65174    12807.36115 16682.28250    maxQ_17271_maxV_22.3_year_8813\n",
      "16589.97852     1.64579  1.21152    14280.90410 17790.09495    maxQ_17332_maxV_27.1_year_8632\n",
      "15757.85352     3.01214  1.74610    13030.40132 17080.88245    maxQ_17415_maxV_16.6_year_6576\n",
      "16006.58105     1.34885  0.86590    14205.14446 16863.45957    maxQ_17456_maxV_24.8_year_3843\n",
      "15817.96973     1.93715  1.13181    13678.68668 16780.09104    maxQ_17523_maxV_21.0_year_5296\n",
      "16045.87695     1.26491  0.89353    14235.01207 17049.99499    maxQ_17576_maxV_26.9_year_6510\n",
      "16659.91016     4.39628  3.32644    13567.92927 18834.08550    maxQ_18567_maxV_30.2_year_3147\n",
      "16512.14063     1.59113  1.51995    14452.91066 18125.91655    maxQ_18802_maxV_21.1_year_8276\n",
      "16734.12305     3.20409  3.03475    13950.99776 19067.70530    maxQ_18861_maxV_25.7_year_9470\n",
      "16548.50000     2.26654  1.86670    14277.32915 18101.25168    maxQ_19050_maxV_26.9_year_3672\n",
      "16309.44043     1.50965  1.10279    14012.33162 17601.20133    maxQ_20495_maxV_21.6_year_7971\n",
      "16273.45508     1.18069  1.04990    14414.70736 17624.26120    maxQ_21124_maxV_26.2_year_9605\n",
      "13894.17285     1.86904  1.31192    12403.70806 15037.07635    s14000\n",
      "14744.47461     2.13280  2.30159    13243.61028 16458.97249    s16000\n",
      "16341.26855     1.68376  1.17527    13900.91188 17615.11423    s18000\n",
      "16712.13672    -5.84920 -4.35168    14292.25712 18904.58215    s20000\n",
      "17626.04102     3.54896  2.41533    14006.33191 20009.04228    s30000\n"
     ]
    }
   ],
   "source": [
    "# Load ensembles into dictionaries\n",
    "# Read the file into a dictionary, labelled by event->timeseries\n",
    "datafile = 'read_Qmax_sums_results.csv'\n",
    "sep = ';'\n",
    "with open(datafile,\"r\") as fnin:\n",
    "    line = fnin.readline().strip()\n",
    "    colnames = re.sub(r'[^\\x00-\\x7F]','', line).split(sep)\n",
    "    ensembles = { colname:[] for colname in colnames}\n",
    "    while line:\n",
    "        line = fnin.readline()\n",
    "        linesplit = line.strip().split(sep)\n",
    "        for i in range(len(linesplit)):\n",
    "            if linesplit[i]:\n",
    "                try:\n",
    "                    ensembles[colnames[i]].append(float(linesplit[i].replace(',','.')))\n",
    "                except:\n",
    "                    ensembles[colnames[i]].append(linesplit[i])\n",
    "\n",
    "# Select realizations from ensembles:\n",
    "first_realization = 0\n",
    "last_realization = 100\n",
    "refnr = 113\n",
    "\n",
    "label2nr = {}\n",
    "rownames = ensembles['Scenario']\n",
    "for i in range(len(rownames)):\n",
    "    label2nr[rownames[i]] = i\n",
    "selected = ['Sum%d'%dd for dd in range (first_realization,last_realization+1)]    # selected labels for realizations\n",
    "selnr = [label2nr[rowname] for rowname in selected]\n",
    "\n",
    "# Determine min, max, alpha, beta for each ensemble\n",
    "irow_ref = label2nr['Sum%d'%refnr]\n",
    "a = np.array([])\n",
    "b = np.array([])\n",
    "alpha = np.array([])\n",
    "beta = np.array([])\n",
    "qref = np.array([])\n",
    "\n",
    "a_2se = np.array([])\n",
    "b_2se = np.array([])\n",
    "alpha_2se = np.array([])\n",
    "beta_2se = np.array([])\n",
    "colnames.pop(0)\n",
    "for icol in range(len(colnames)): \n",
    "    sample=np.array([ensembles[colnames[icol]][i] for i in selnr])\n",
    "    est,var = fb.fitBetaMomentsJack(sample)\n",
    "    \n",
    "    alpha = np.append(alpha,est[0])\n",
    "    beta = np.append(beta,est[1])\n",
    "    a = np.append(a,est[2])\n",
    "    b = np.append(b,est[3])\n",
    "    alpha_2se = np.append(alpha,var[2])\n",
    "    beta_2se = np.append(beta,var[3])\n",
    "    a_2se = np.append(a,var[0])\n",
    "    b_2se = np.append(b,var[1])\n",
    "    qref = np.append(qref,ensembles[colnames[icol]][irow_ref])\n",
    "    \n",
    "sys.stdout.write(\"%11s    %8s %8s       %8s    %8s    %s\\n\"%('Ref','alpha','beta','A', 'B', 'Label'))\n",
    "for i in range(len(qref)):\n",
    "    sys.stdout.write(\"%8.5f    %8.5f %8.5f    %8.5f %8.5f    %s\\n\"%(qref[i],alpha[i],beta[i],a[i],b[i],colnames[i]))    "
   ]
  },
  {
   "cell_type": "code",
   "execution_count": 34,
   "metadata": {},
   "outputs": [],
   "source": [
    "# logarithmic fits on the location parameters of the Beta distribution A and B\n",
    "q0 = 3000\n",
    "clog_a1 = linfit(qref-q0,np.log(qref-a))\n",
    "clog_b1 = linfit(qref-q0,np.log(b-qref))\n",
    "\n",
    "# linear fits on the shape parameters alpha and beta\n",
    "c_alpha1 = linfit(qref,alpha)\n",
    "c_beta1 = linfit(qref,beta)"
   ]
  },
  {
   "cell_type": "code",
   "execution_count": null,
   "metadata": {},
   "outputs": [],
   "source": []
  },
  {
   "cell_type": "code",
   "execution_count": 15,
   "metadata": {},
   "outputs": [],
   "source": [
    "# os.system('RUN002_LHSsampling.tek')    # open file met LHC parameters in standaard editor\n",
    "# res = os.system(os.environ['EDITOR']+' read_Qmax_sums_results.csv')\n",
    "# res = os.system('wvi read_Qmax_sums_results.csv')"
   ]
  },
  {
   "cell_type": "code",
   "execution_count": 16,
   "metadata": {},
   "outputs": [],
   "source": [
    "# Lees TEKAL file met Latin Hyper Cube parameter sets\n",
    "LHCSets = readTEKAL('RUN002_LHSsampling.tek','XLHS')"
   ]
  },
  {
   "cell_type": "code",
   "execution_count": 17,
   "metadata": {},
   "outputs": [],
   "source": [
    "# Least-squares line fit\n",
    "def linfit(x,y):\n",
    "    nn = ma.count(x)\n",
    "    c = [(ma.sum(x*y)-ma.sum(x)*ma.sum(y)/nn)/(ma.sum(x*x)-ma.sum(x)*ma.sum(x)/nn)]\n",
    "    c.append((ma.sum(y)-c[0]*ma.sum(x))/nn)\n",
    "    return(c)"
   ]
  },
  {
   "cell_type": "code",
   "execution_count": 18,
   "metadata": {},
   "outputs": [],
   "source": [
    "# os.system('RUN002_LHSsampling.tek')    # edit tek file\n",
    "# Data Block with the XLHS-values.\n",
    "# Legend for the 11 columns:\n",
    "# Column   1: X-value for stochastic variable Nr.   1/11, with name Friction        , and distribution Parabolic   \n",
    "# Column   2: X-value for stochastic variable Nr.   2/11, with name DijkhTypeA      , and distribution Parabolic   \n",
    "# Column   3: X-value for stochastic variable Nr.   3/11, with name DijkhTypeB-DEM  , and distribution Parabolic   \n",
    "# Column   4: X-value for stochastic variable Nr.   4/11, with name DijkhTypeB-KRUIN, and distribution Parabolic   \n",
    "# Column   5: X-value for stochastic variable Nr.   5/11, with name DijkhTypeC      , and distribution Parabolic   \n",
    "# Column   6: X-value for stochastic variable Nr.   6/11, with name DoorbraakLoc07  , and distribution nExponential\n",
    "# Column   7: X-value for stochastic variable Nr.   7/11, with name DoorbraakLoc08  , and distribution nExponential\n",
    "# Column   8: X-value for stochastic variable Nr.   8/11, with name DoorbraakLoc09  , and distribution nExponential\n",
    "# Column   9: X-value for stochastic variable Nr.   9/11, with name MySwitch07      , and distribution Binary      \n",
    "# Column  10: X-value for stochastic variable Nr.  10/11, with name MySwitch08      , and distribution Binary      \n",
    "# Column  11: X-value for stochastic variable Nr.  11/11, with name MySwitch09      , and distribution Binary      \n",
    "#\n",
    "#Column 1             2             3             4             5             6             7             8             9            10            11\n",
    "\n",
    "# Bepaal voor elk ensemble de door de ruwheidscoefficient verklaarde variantie.\n",
    "# Elk ensemble staat voor één event, doorgerekend met verschillende parameterset (elk met eigen ruwheidscoefficient)\n",
    "sigma_fric = {}\n",
    "sigma_fric_perc = np.array([])\n",
    "std_r = np.std(LHCSets[0])\n",
    "for eventkey, eventdata in ensembles.items():\n",
    "    try:\n",
    "        a,b = linfit(LHCSets[0],eventdata[first_realization:last_realization+1])\n",
    "        std_q = np.std(eventdata[first_realization:last_realization+1])\n",
    "        sigma_fric_perc = np.append(sigma_fric_perc,abs(a)*std_r/std_q*100.)\n",
    "        sigma_fric[eventkey]={'slope':a,'std_r':std_r,'std_q':std_q,'ratio':sigma_fric_perc[-1]}\n",
    "    except:\n",
    "        pass\n",
    "    \n",
    "#sigma_fric_perc is het procentuele aandeel van de frictie (kolom 1) in de spreiding voor elk event"
   ]
  },
  {
   "cell_type": "code",
   "execution_count": 19,
   "metadata": {},
   "outputs": [
    {
     "data": {
      "application/vnd.jupyter.widget-view+json": {
       "model_id": "6a4095e1f62247caa21ce90a66f85e91",
       "version_major": 2,
       "version_minor": 0
      },
      "text/plain": [
       "HBox(children=(FloatProgress(value=0.0, max=50001.0), HTML(value='')))"
      ]
     },
     "metadata": {},
     "output_type": "display_data"
    },
    {
     "name": "stdout",
     "output_type": "stream",
     "text": [
      "\n"
     ]
    }
   ],
   "source": [
    "# Interpoleer de procentuele bijdrage van de frictie naar qref\n",
    "sigma_fric_perc_qref = []\n",
    "for i in tqdm(list(range(np_qref.size))):\n",
    "    sigma_fric_perc_qref.append(interpolate(qref,sigma_fric_perc,np_qref[i]))\n",
    "np_sigma_fric_perc_qref = np.array(sigma_fric_perc_qref)"
   ]
  },
  {
   "cell_type": "code",
   "execution_count": 20,
   "metadata": {},
   "outputs": [
    {
     "data": {
      "text/plain": [
       "[<matplotlib.lines.Line2D at 0x13ad2fabcf8>]"
      ]
     },
     "execution_count": 20,
     "metadata": {},
     "output_type": "execute_result"
    },
    {
     "data": {
      "image/png": "[encoded data removed]",
      "text/plain": [
       "<Figure size 432x288 with 1 Axes>"
      ]
     },
     "metadata": {
      "needs_background": "light"
     },
     "output_type": "display_data"
    }
   ],
   "source": [
    "plt.plot(np_qref,sigma_fric_perc_qref,'+')\n",
    "plt.plot(qref,sigma_fric_perc,'r.')"
   ]
  },
  {
   "cell_type": "code",
   "execution_count": 21,
   "metadata": {},
   "outputs": [
    {
     "name": "stderr",
     "output_type": "stream",
     "text": [
      "C:\\Users\\leander\\AppData\\Local\\Continuum\\anaconda3\\lib\\site-packages\\ipykernel_launcher.py:4: RuntimeWarning: invalid value encountered in log\n",
      "  after removing the cwd from sys.path.\n"
     ]
    }
   ],
   "source": []
  },
  {
   "cell_type": "markdown",
   "metadata": {},
   "source": [
    "$$\n",
    "A(q_r)\\,=\\,q_r\\,-\\,C_{A1}\\exp\\left(C_{A2}(q_r-q_0)\\right)\\\\ \\,\\\\ \n",
    "B(q_r)\\,=\\,q_r\\,+\\,C_{B1}\\exp\\left(C_{B2}(q_r-q_0)\\right)\\\\ \\,\\\\\n",
    "\\alpha(q_r)\\,=\\,\\max\\left(1,C_{\\alpha 1}\\,+\\,C_{\\alpha 2}q_r\\right)\\\\ \\,\\\\\n",
    "\\beta(q_r)\\,=\\,\\max\\left(1,C_{\\beta 1}\\,+\\,C_{\\beta 2}q_r\\right) \n",
    "$$"
   ]
  },
  {
   "cell_type": "code",
   "execution_count": 32,
   "metadata": {},
   "outputs": [
    {
     "data": {
      "text/plain": [
       "-10407.294469738885"
      ]
     },
     "execution_count": 32,
     "metadata": {},
     "output_type": "execute_result"
    }
   ],
   "source": [
    "a"
   ]
  },
  {
   "cell_type": "code",
   "execution_count": null,
   "metadata": {},
   "outputs": [],
   "source": [
    "plt.plot(qref,a,'bo',label='A-parameter, lower extent')\n",
    "fig = plt.gcf()\n",
    "ax=plt.gca()\n",
    "ax.set_ylim([10000,21000])\n",
    "ax.plot(qref,b,'ro',label='B-parameter, upper extent')\n",
    "ax.plot(qref,qref,'g--',label='Reference discharge')\n",
    "ax.set_xlim([10000,21000])\n",
    "\n",
    "#logarithmic fits\n",
    "qs=np.array(list(range(3000,18000,100)))\n",
    "ax.plot(qs,qs-np.exp(clog_a1[0]*(qs-q0)+clog_a1[1]),'b.-',label=\"Q-%.3f * exp(%.3e*(Q - %.0f))\"%(np.exp(clog_a1[1]),clog_a1[0],q0))\n",
    "ax.plot(qs,qs+np.exp(clog_b1[0]*(qs-q0)+clog_b1[1]),'r.-',label=\"Q+%.3f * exp(%.3e*(Q - %.0f))\"%(np.exp(clog_b1[1]),clog_b1[0],q0))\n",
    "\n",
    "fig.set_size_inches(13,9)\n",
    "ax.set_xlabel('Reference discharge [m3 s-1]')\n",
    "ax.set_ylabel('A, B, Ref [m3 s-1]')\n",
    "ax.set_title('Extents A and B of the fit 4-parameter Beta distribution')\n",
    "lgnd = ax.legend()"
   ]
  },
  {
   "cell_type": "code",
   "execution_count": null,
   "metadata": {},
   "outputs": [],
   "source": [
    "# Combi meteo (normaal) en hydraulische onzekerheid (beta-verdeling) door samplen en opnieuw Beta fitten\n",
    "# q_Meteo gesampled uit de bovenstaande onzwekerheidsband voor de meteo\n",
    "# q_Hydraulica gesampled uit een beta-verdeling met verwachting 0\n",
    "# gesommeerd\n",
    "# Beta verdeling gefit\n",
    "\n",
    "def CombiNormalAndBeta(betaparameters,normalparameters,nx):\n",
    "    alpha = betaparameters[0]\n",
    "    beta = betaparameters[1]\n",
    "    AA = betaparameters[2]\n",
    "    BB = betaparameters[3]\n",
    "#   DD = sigma0*(alpha+beta)*((alpha+beta+1)/(alpha*beta))**0.5     # DD for s given sigma\n",
    "    DD = BB - AA                                                    # Keep the same interval\n",
    "    AA = -alpha*DD/(alpha+beta)                                     # Zero mean\n",
    "    BB = beta*DD/(alpha+beta)\n",
    "    \n",
    "    mu = normalparameters[0]\n",
    "    sigma = normalparameters[1]\n",
    "\n",
    "    betas=np.random.beta(alpha,beta,nx)*DD+AA\n",
    "    normals=np.random.normal(mu,sigma,nx)\n",
    "    sums=betas+normals\n",
    "    est2 = fb.fitBetaQuantiles(sums)\n",
    "    return est2"
   ]
  },
  {
   "cell_type": "code",
   "execution_count": null,
   "metadata": {},
   "outputs": [],
   "source": [
    "from ipywidgets import *\n",
    "sample_size = 10000\n",
    "mu=rijn_new['mu']\n",
    "sgv=rijn_new['sgv']\n",
    "sgm=rijn_new['sigma']\n",
    "\n",
    "def effective_beta_quantiles(stdgumvar, sample_size):\n",
    "    qhbv = interpolate(sgv,mu,stdgumvar)                   \n",
    "    sigma = interpolate(sgv,sgm,stdgumvar)                           # sigma jackknife/hydrology(HBV)\n",
    "    F, normals = quantilesetnormal(sample_size,qhbv,sigma)    \n",
    "    hydrologic_uncertainty=regression_2018(normals)\n",
    "    \n",
    "    qsbk = regression_2018([qhbv])[0]\n",
    "    alpha = max(1.0,c_alpha1[0]*qsbk+c_alpha1[1]) \n",
    "    beta = max(1.0,c_beta1[0]*qsbk+c_beta1[1])\n",
    "    AA = qsbk-np.exp(clog_a1[0]*(qsbk-q0)+clog_a1[1])\n",
    "    BB = qsbk+np.exp(clog_b1[0]*(qsbk-q0)+clog_b1[1])\n",
    "    DD = BB - AA                                                    # Keep the same interval\n",
    "    mean = alpha/(alpha+beta)*DD+AA\n",
    "    BB = BB - mean\n",
    "    AA = AA - mean\n",
    "    F, betas = quantilesetbeta(sample_size,alpha,beta,AA,BB)    \n",
    "    hydraulic_uncertainty=betas\n",
    "\n",
    "    sumlist = []\n",
    "    for h1 in hydrologic_uncertainty:\n",
    "        for h2 in hydraulic_uncertainty:\n",
    "            sumlist.append(h1+h2)\n",
    "    sums=np.array(sumlist)\n",
    "    est2 = fb.fitBetaQuantiles(sums)\n",
    "    beta_parameters = (alpha,beta,AA,BB)\n",
    "    normal_parameters = (qhbv,sigma)\n",
    "    return (est2, sums, beta_parameters, normal_parameters)\n",
    "\n",
    "def effective_beta_random(stdgumvar, sample_size):\n",
    "    qhbv = interpolate(sgv,mu,stdgumvar)\n",
    "    sigma = interpolate(sgv,sgm,stdgumvar)\n",
    "    normals = np.random.normal(qhbv,sigma,sample_size)     # trek een normaal verdeelde met mu=qref en sigma(qref)\n",
    "    hydrologic_uncertainty=regression_2018(normals)         # haal deze door de HBV->SOBEK regressie\n",
    "\n",
    "    qsbk = regression_2018([qhbv])[0]\n",
    "    alpha = max(1.0,c_alpha1[0]*qsbk+c_alpha1[1]) \n",
    "    beta = max(1.0,c_beta1[0]*qsbk+c_beta1[1])\n",
    "    AA = qsbk-np.exp(clog_a1[0]*(qsbk-q0)+clog_a1[1])\n",
    "    BB = qsbk+np.exp(clog_b1[0]*(qsbk-q0)+clog_b1[1])\n",
    "    DD = BB - AA                                                    # Keep the same interval\n",
    "    mean = alpha/(alpha+beta)*DD+AA\n",
    "    BB = BB - mean\n",
    "    AA = AA - mean\n",
    "    hydraulic_uncertainty=np.random.beta(alpha,beta,sample_size)*DD+AA # trek een Beta verdeelde \n",
    "    sums=hydrologic_uncertainty\n",
    "    # sums=hydraulic_uncertainty+hydrologic_uncertainty\n",
    "    est2 = fb.fitBetaQuantiles(sums)\n",
    "    beta_parameters = (alpha,beta,AA,BB)\n",
    "    normal_parameters = (qhbv,sigma)\n",
    "    return (est2, sums, beta_parameters, normal_parameters)"
   ]
  },
  {
   "cell_type": "code",
   "execution_count": null,
   "metadata": {},
   "outputs": [],
   "source": [
    "#  recalc_beta = True: Bereken Beta parameters langs de gumbel-as  door willekeurige trekkingen te fitten\n",
    "#  recalc_beta = False: Haal voorberekende resultaten van een file (berekening duurt erg lang)\n",
    "recalc_beta = False\n",
    "size = 50000\n",
    "estimates = []\n",
    "if recalc_beta:\n",
    "    with open('effective_beta.txt','w') as effbeta:\n",
    "        for sgvval in np.array(list(range(-4,23)))*0.5:\n",
    "            result=effective_beta_random(sgvval, size)        \n",
    "            est2=result[0]\n",
    "            estimates.append((sgvval,est2))\n",
    "            effbeta.write(\"%15.5e, %15.5e, %15.5e, %15.5e, %15.5e\\n\"%(sgvval, est2[0], est2[1], est2[2], est2[3]))\n",
    "else:\n",
    "    if os.path.isfile('effective_beta.txt'):\n",
    "        with open('effective_beta.txt','r') as effbeta:\n",
    "            while True:\n",
    "                l = effbeta.readline()\n",
    "                if not l:\n",
    "                    break\n",
    "                floats = [float(lsub) for lsub in l.split(',')]\n",
    "                est2 = np.array(floats[1:5])\n",
    "                sgvval = floats[0]\n",
    "                estimates.append((sgvval,est2))\n",
    "                sys.stdout.write(\"%15.5e, %15.5e, %15.5e, %15.5e, %15.5e\\n\"%(sgvval, est2[0], est2[1], est2[2], est2[3]))\n"
   ]
  },
  {
   "cell_type": "code",
   "execution_count": null,
   "metadata": {},
   "outputs": [],
   "source": [
    "# Uitsplitsen varianties, isoleren van de onzekerheid tgv de frictie uit de totale uiteindelijke onzekerheid:\n",
    "# Cell niet uitvoeren: nog Werk in Uitvoering .....\n",
    "sigma = interpolate(sgv,sgm,stdgumvar)  # hydrology\n",
    "qhbv = interpolate(sgv,mu,stdgumvar)\n",
    "\n",
    "    qsbk = regression_2018([qhbv])[0]\n",
    "    alpha = max(1.0,c_alpha1[0]*qsbk+c_alpha1[1]) \n",
    "    beta = max(1.0,c_beta1[0]*qsbk+c_beta1[1])\n",
    "    AA = qsbk-np.exp(clog_a1[0]*(qsbk-q0)+clog_a1[1])\n",
    "    BB = qsbk+np.exp(clog_b1[0]*(qsbk-q0)+clog_b1[1])\n",
    "\n",
    "for est in estimates:\n",
    "    yy.append(est[0])       # standardized gumbel variate\n",
    "    alpha_fit=est[1][0]     # resultante Beta parameters\n",
    "    beta_fit=est[1][1]\n",
    "    AA_fit=est[1][2]\n",
    "    BB_fit=est[1][3]\n",
    "    mean_t, var_t, skew_t, kurt_t = fb.BetaMoments(alpha_fit,beta_fit,AA_fit,BB_fit)    # moments based on the resultant Beta distribution\n",
    "    qhbv = interpolate(sgv,mu,yy)                                               # HBV afvoer voor gumbel variaat yy\n",
    "    qsbk = regression_2018([qhbv])[0]                                           # SOBEK discharge voor gumbel variaat yy\n",
    "    alpha_hyd = max(1.0,c_alpha1[0]*qsbk+c_alpha1[1])                           # Beta parameters gerelateerd aan hydraulische onzekerheden\n",
    "    beta_hyd = max(1.0,c_beta1[0]*qsbk+c_beta1[1])\n",
    "    AA_hyd = qsbk-np.exp(clog_a1[0]*(qsbk-q0)+clog_a1[1])\n",
    "    BB_hyd = qsbk+np.exp(clog_b1[0]*(qsbk-q0)+clog_b1[1])\n",
    "    mean_h, var_h, skew_h, kurt_h = fb.BetaMoments(alpha_hyd,beta_hyd,AA_hyd,BB_hyd)    # Momenten uit de Beta parameters tgv hydraulische onzekerheden\n",
    "    var_m = (interpolate(sgv,sgm,yy))**2.                                       # variantie tgv meteorologische onzekerheid\n",
    "    var_t2 = var_m + var_h                                                      # totale variantie, moet gelijk zijn aan var_t2\n"
   ]
  },
  {
   "cell_type": "code",
   "execution_count": null,
   "metadata": {},
   "outputs": [],
   "source": [
    "# Leid verwachting, variantie, scheefheid, kurtosis en het tweezijdig 95% betrouwbaarheidsinterval af uit de beta parameters\n",
    "yy = []\n",
    "pct_025 = []\n",
    "pct_975 = []\n",
    "pct_500 = []\n",
    "meanlist = []\n",
    "varlist = []\n",
    "skewlist = []\n",
    "kurtlist = []\n",
    "\n",
    "for est in estimates:\n",
    "    yy.append(est[0])\n",
    "    alpha_fit=est[1][0]\n",
    "    beta_fit=est[1][1]\n",
    "    AA_fit=est[1][2]\n",
    "    BB_fit=est[1][3]\n",
    "    pct_025.append(fb.beta_reverse(alpha_fit,beta_fit,AA_fit,BB_fit,0.025))\n",
    "    pct_500.append(fb.beta_reverse(alpha_fit,beta_fit,AA_fit,BB_fit,0.500))\n",
    "    pct_975.append(fb.beta_reverse(alpha_fit,beta_fit,AA_fit,BB_fit,0.975))\n",
    "    mean, var, skew, kurt = fb.BetaMoments(alpha_fit,beta_fit,AA_fit,BB_fit)\n",
    "    meanlist.append(mean)\n",
    "    varlist.append(var)\n",
    "    skewlist.append(skew)\n",
    "    kurtlist.append(kurt)\n",
    "np_yy = np.array(yy)\n",
    "np_pct025 = np.array(pct_025)\n",
    "np_pct500 = np.array(pct_500)\n",
    "np_pct975 = np.array(pct_975)\n",
    "np_mean = np.array(meanlist)\n",
    "np_var = np.array(varlist)\n",
    "np_skew = np.array(skewlist)\n",
    "np_kurt = np.array(kurtlist)"
   ]
  },
  {
   "cell_type": "code",
   "execution_count": null,
   "metadata": {},
   "outputs": [],
   "source": []
  },
  {
   "cell_type": "code",
   "execution_count": null,
   "metadata": {},
   "outputs": [],
   "source": [
    "# Voer een uitintegratie uit voor de nieuwe resultaten\n",
    "def cdfbeta(y,parms):\n",
    "    return fb.beta_forward(parms[0],parms[1],parms[2],parms[3],y)\n",
    "\n",
    "rijn_new['uitintegratie'] = {}\n",
    "np_yy = np.array([est[0] for est in estimates])\n",
    "rijn_parms_new = {'distpar' : [est[1] for est in estimates],\n",
    "                  'F' : np.exp(-np.exp(-np_yy))}\n",
    "rijn_new['uitintegratie']['levels'] = np.array(list(range(6000,21000,100)))\n",
    "rijn_cdf_new = outintegrate(rijn_parms_new, rijn_new['uitintegratie']['levels'] , cdfbeta)\n",
    "rijn_new['uitintegratie']['sgv'] = -np.log(-np.log(rijn_cdf_new))"
   ]
  },
  {
   "cell_type": "code",
   "execution_count": null,
   "metadata": {
    "scrolled": false
   },
   "outputs": [],
   "source": [
    "#plot nieuw versus observations met \n",
    "plt.plot(rijn_obs['sgv'],rijn_obs['mu'],'g*',label=\"Observaties\")\n",
    "plt.plot(np_yy,np_mean,'m-',label='Nieuwe resultaten, meteo+hydraulische onzekerheid')\n",
    "plt.plot(np_yy,np_pct025,'m--')\n",
    "plt.plot(np_yy,np_pct975,'m--')\n",
    "plt.plot(rijn_new['uitintegratie']['sgv'],rijn_new['uitintegratie']['levels'],'k-',label=\"Uitintegratie\")\n",
    "\n",
    "ax = plt.gca()\n",
    "ax.set_xlim(0,13)\n",
    "fig = plt.gcf()\n",
    "fig.set_size_inches(15,7)\n",
    "lgnd = ax.legend(loc=\"upper left\")\n",
    "add_gum_axis(Tretlist,ax)\n",
    "ti = ax.set_title('Nieuwe referentie werklijn met de observaties en onzekerheidsbanden en uitgeïntegreerde')\n",
    "ylim = ax.set_ylim(0,20000)"
   ]
  },
  {
   "cell_type": "code",
   "execution_count": null,
   "metadata": {},
   "outputs": [],
   "source": [
    "#plot oud en nieuw uitgeïntegreerd versus observations\n",
    "plt.plot(rijn_old['uitintegratie']['sgv'],rijn_old['uitintegratie']['levels'],'r-',label=\"Uitintegratie oud\")\n",
    "plt.plot(rijn_new['uitintegratie']['sgv'],rijn_new['uitintegratie']['levels'],'b-',label=\"Uitintegratie nieuw\")\n",
    "plt.plot(rijn_obs['sgv'],rijn_obs['mu'],'g*',label=\"Observaties\")\n",
    "\n",
    "ax=plt.gca()\n",
    "ax.set_xlim(0,13)\n",
    "fig=plt.gcf()\n",
    "fig.set_size_inches(15,7)\n",
    "lgnd = ax.legend(loc=\"upper left\")\n",
    "add_gum_axis(Tretlist,ax)\n",
    "ti=ax.set_title('Oude versus nieuwe uitgeïntegreerde werklijn')\n",
    "ylm = ax.set_ylim(0,20000)"
   ]
  },
  {
   "cell_type": "code",
   "execution_count": null,
   "metadata": {},
   "outputs": [],
   "source": [
    "#fit een functioneel voorschrift uit de berekende punten op de manier van Henk vd Boogaerd\n",
    "plt.plot(rijn_new['uitintegratie']['sgv'],rijn_new['uitintegratie']['levels'],'b*',label=\"Uitintegratie nieuw\")\n",
    "plt.plot(rijn_obs['sgv'],rijn_obs['mu'],'g*',label=\"Observaties\")\n",
    "\n",
    "ax=plt.gca()\n",
    "ax.set_xlim(0,13)\n",
    "fig=plt.gcf()\n",
    "fig.set_size_inches(15,7)\n",
    "lgnd = ax.legend(loc=\"upper left\")\n",
    "add_gum_axis(Tretlist,ax)\n",
    "ti=ax.set_title('Oude versus nieuwe uitgeïntegreerde werklijn')\n",
    "ylm = ax.set_ylim(0,20000)\n",
    "\n",
    "# plot a piece-wise linear\n",
    "x = [0,   4.7,  8,    12,   20     ]\n",
    "y = [5250,13500,14800,17400,17400  ]\n",
    "plt.plot(x,y,'r-+')"
   ]
  },
  {
   "cell_type": "markdown",
   "metadata": {},
   "source": [
    "<H2> Gedeeltelijk lineaire benadering met exponentiële overgangen</H2>\n",
    "Dit is een generalisatie van de uitdrukking die Henk vd Boogaard gebruikt voor <tt>regressie_2018</tt>, namelijk:\n",
    "$$\n",
    "y(x)\\,=\\,\n",
    "C\\,+r_1 x\n",
    "+ \\sum\\limits_{i=2}^n \\left(r_i-r_{i-1}\\right)\\,\\log\\left(1\\,+\\,\\exp\\left(\\frac{x-\\mu_{i-1}}{\\sigma_{i-1}}\\right)\\right)\\,\\,,\n",
    "$$\n",
    "geïmplementeerd in de onderstaande functie <tt>pwlin</tt>.\n",
    "De knikpunten (op de horizontale as) bevinden zichop de $\\mu_i$, de helling van de stukken is voorgeschreven door de $r_i$ op het interval $\\left(\\mu_{i-1},\\mu_i\\right)$, $C$ is een offset en de $\\sigma_i$ bepaalt de scherpte van het knikpunt bij $\\mu_i$, m.a.w. hoe glad de overgang verloopt. Zo kan in termen van een beperkte set parameters bovenstaande curve redelijk beschreven worden. Er zijn grofweg vier intervallen te onderscheiden, dus vier hellingen en drie knikpunten.\n",
    "\n",
    "Gegeven een set knikpunten $\\left(x_i,y_i\\right)$, kan bepaald worden:\n",
    "<ul>\n",
    "    <li>$r_i=\\left(y_i-y_{i-1}\\right)/\\left(x_i-x_{i-1}\\right)$</li>\n",
    "    <li>$\\mu_i=r_i$</li>\n",
    "    <li>$C=y_1-r_1x_1$</li>\n",
    "</ul>\n",
    "De $\\sigma_i$ moeten nog naar smaak gekozen worden en hangen samen met hoe dicht het knikpunt benaderd moet worden.\n",
    "Omdat de knikpunten zelf geen onderdeel van de data zijn en ook omdat de curve een beetje glad moet blijven, hoeven de $\\sigma_i$ in dit geval niet heel klein te zijn.\n",
    "Dit is geïmplementeerd in de onderstaande functie <tt>pwlin_points</tt>. Dan zijn er dus 5 punten nodig in dit geval."
   ]
  },
  {
   "cell_type": "code",
   "execution_count": null,
   "metadata": {},
   "outputs": [],
   "source": [
    "#Piecewise linear with exonential smooth transitions\n",
    "#Dit is de aanpak van Henk vd Boogaard, maar dan generieker:\n",
    "\n",
    "MAX_EXP = 700.     # max argument of the exponent function\n",
    "def pwlin(x,r,mu,sigma):\n",
    "    x_ = []\n",
    "    for value in x:\n",
    "        y = r[0] + r[1]*value\n",
    "        for i in range(1,len(mu)):\n",
    "            z = (value-mu[i])/sigma[i]\n",
    "            if (z<=MAX_EXP):\n",
    "                a = np.log(1+np.exp(z))\n",
    "            else:\n",
    "                a = z\n",
    "            y += (r[i+1]-r[i])*sigma[i]*a\n",
    "        x_.append(y)\n",
    "    return x_\n",
    "\n",
    "def pwlin_points(x,xs,ys,sigma):\n",
    "    r=np.array([ys[0] - ((ys[1]-ys[0])/(xs[1]-xs[0]))*xs[0]])\n",
    "    for i in range(1,len(xs)):\n",
    "        r = np.append(r, (ys[i]-ys[i-1])/(xs[i]-xs[i-1]))\n",
    "    print (r)\n",
    "    return pwlin(x,r,xs[:-1],sigma)    "
   ]
  },
  {
   "cell_type": "code",
   "execution_count": null,
   "metadata": {},
   "outputs": [],
   "source": [
    "def benadering(sgv):\n",
    "    xss = np.array([0,   4.7,  8,    12.0,   20 ])\n",
    "    yss = np.array([5250,13500,14800, 17300, 17400])\n",
    "    sgm = np.array([np.nan,0.3,0.1,0.5,0.1])\n",
    "    return pwlin_points(sgv,xss,yss,sgm)\n",
    "\n",
    "#fit een functioneel voorschrift uit de berekende punten op de manier van Henk vd Boogaerd\n",
    "plt.plot(rijn_new['uitintegratie']['sgv'],rijn_new['uitintegratie']['levels'],'b*',label=\"Uitintegratie nieuw\")\n",
    "plt.plot(rijn_obs['sgv'],rijn_obs['mu'],'g*',label=\"Observaties\")\n",
    "\n",
    "ax=plt.gca()\n",
    "ax.set_xlim(0,13)\n",
    "fig=plt.gcf()\n",
    "fig.set_size_inches(15,7)\n",
    "lgnd = ax.legend(loc=\"upper left\")\n",
    "add_gum_axis(Tretlist,ax)\n",
    "ti=ax.set_title('Oude versus nieuwe uitgeïntegreerde werklijn')\n",
    "ylm = ax.set_ylim(0,20000)\n",
    "\n",
    "# plot benadering\n",
    "sgv = np.linspace(0, 13, num=200)\n",
    "qq = benadering(sgv)\n",
    "plt.plot(sgv,qq,'r-')"
   ]
  },
  {
   "cell_type": "markdown",
   "metadata": {},
   "source": [
    "De totale uitdrukking wordt nu:\n",
    "$$Q(y)\\,=\\,C\\,+\\,r_1 y\\,+\\,(r_2-r_1)\\,\\sigma_1\\log\\left(1+\\exp\\left(\\frac{y-\\mu_1}{\\sigma_1}\\right)\\right)+\\,(r_3-r_2)\\,\\sigma_2\\log\\left(1+\\exp\\left(\\frac{y-\\mu_2}{\\sigma_2}\\right)\\right)$$\n",
    "$$\\phantom{Q(y)\\,=\\,C\\,+\\,r_1 y\\,}+\\,(r_4-r_3)\\,\\sigma_3\\log\\left(1+\\exp\\left(\\frac{y-\\mu_3}{\\sigma_3}\\right)\\right)+\\,(r_5-r_4)\\,\\sigma_4\\log\\left(1+\\exp\\left(\\frac{y-\\mu_4}{\\sigma_4}\\right)\\right)$$\n",
    "\n",
    "<table>\n",
    "<tr>    \n",
    "    <td>\n",
    "$C = 5250.0$ <br>\n",
    "$r_1 = 1755.3$ <br>\n",
    "$r_2 = 393.9$  <br>\n",
    "$r_3 = 625.0$<br>\n",
    "$r_4 = 12.5$<br>\n",
    "$r_5 = 0.0$<br>\n",
    "    </td>\n",
    "<td>\n",
    "$\\mu_1 = 0.0$ <br>\n",
    "$\\mu_1 = 4.7$ <br>\n",
    "$\\mu_2 = 8.0$  <br>\n",
    "$\\mu_3 = 12.0$<br>\n",
    "    </td>\n",
    "</tr>\n",
    "Met $y$ de standardised gumbel variate, uitgedrukt in de herhalingstijd $T_r$ als:\n",
    "$$\n",
    "y\\,=\\,-\\log\\left(-\\log\\left(1-\\frac 1 {T_r}\\right)\\right)\n",
    "$$"
   ]
  },
  {
   "cell_type": "code",
   "execution_count": null,
   "metadata": {},
   "outputs": [],
   "source": []
  },
  {
   "cell_type": "code",
   "execution_count": null,
   "metadata": {},
   "outputs": [],
   "source": []
  },
  {
   "cell_type": "code",
   "execution_count": null,
   "metadata": {},
   "outputs": [],
   "source": []
  },
  {
   "cell_type": "code",
   "execution_count": null,
   "metadata": {},
   "outputs": [],
   "source": [
    "import math   # Crucial import !!!\n",
    "def werklijn functie(x, fit_regr=False):\n",
    "    c      = 342.254390\n",
    "    r1     = 0.91577902\n",
    "    mu1    = 14442.2780 #ORIG\n",
    "    sigma1 = 307.118620\n",
    "    r2     = 0.32752076\n",
    "    mu2    = 18573.2200 #ORIG\n",
    "    sigma2 = 2.71804449E-14\n",
    "    r3     = 0.53632634 #ORIG\n",
    "    mu3    = 21904.1250 #ORIG\n",
    "    sigma3 = 136.807970  \n",
    "    r4     = 0.21296795\n",
    "    mu4    = 26177.6500 #ORIG\n",
    "    sigma4 = 79.5476640\n",
    "    r5     = 0.00000000\n",
    "    if fit_regr == True:\n",
    "        mu1    = 14800.0000\n",
    "        mu2    = 17750.0000\n",
    "        r3     = 0.75000000\n",
    "        mu3    = 20000.0000\n",
    "    \n",
    "    x_ = []\n",
    "    for value in x:\n",
    "        z1 = (value-mu1)/sigma1\n",
    "        z2 = (value-mu2)/sigma2\n",
    "        z3 = (value-mu3)/sigma3\n",
    "        z4 = (value-mu4)/sigma4\n",
    "        \n",
    "        a1 = (r1*value)\n",
    "        a2 = ((r2-r1)*sigma1*np.log(1+np.exp(z1)))\n",
    "        try:\n",
    "            a3 = ((r3-r2)*sigma2*np.log(1+math.exp(z2)))\n",
    "        except:\n",
    "            a3 = ((r3-r2)*sigma2*z2)\n",
    "        a4 = ((r4-r3)*sigma3*np.log(1+np.exp(z3)))\n",
    "        a5 = ((r5-r4)*sigma4*np.log(1+np.exp(z4)))\n",
    "        \n",
    "        y = c + a1 + a2 + a3 + a4 + a5\n",
    "        x_.append(y)\n",
    "\n",
    "    return x_\n",
    "\n",
    "\n",
    "# Genereer een tabel voor gezette herhalingstijden\n",
    "table = {'Herhaaltijd':Tretlist}\n",
    "qmax_old = []\n",
    "sigma_old = []\n",
    "uit_old = []\n",
    "qmax_new = []\n",
    "sigma_new = []\n",
    "uit_new = [] \n",
    "table={'Herhaaltijd':Tretlist}\n",
    "for tr in Tretlist:\n",
    "    qmax_old.append(interpolate(rijn_old['sgv'],rijn_old['mu'],-np.log(-np.log(1.-1./tr)),default=np.nan))\n",
    "    sigma_old.append(interpolate(rijn_old['sgv'],rijn_old['sigma'],-np.log(-np.log(1.-1./tr)),default=np.nan))\n",
    "    uit_old.append(interpolate(rijn_old['uitintegratie']['sgv'],rijn_old['uitintegratie']['levels'],-np.log(-np.log(1.-1./tr)),default=np.nan))\n",
    "    qmax_new.append(interpolate(rijn_new['sgv'],rijn_new['mu'],-np.log(-np.log(1.-1./tr)),default=np.nan))\n",
    "    sigma_new.append(interpolate(rijn_new['sgv'],rijn_new['sigma'],-np.log(-np.log(1.-1./tr)),default=np.nan))\n",
    "    uit_new.append(interpolate(rijn_new['uitintegratie']['sgv'],rijn_new['uitintegratie']['levels'],-np.log(-np.log(1.-1./tr)),default=np.nan))\n",
    "table['Qmax oud']=qmax_old\n",
    "table['Sigma oud']=sigma_old\n",
    "table['Uitgeïntegreerd oud']=np.round(np.array(uit_old)*100)/100.\n",
    "table['Qmax nieuw']=np.round(np.array(qmax_new)*100)/100.\n",
    "table['Sigma nieuw']=sigma_new\n",
    "table['Uitgeïntegreerd nieuw']=np.round(np.array(uit_new)*100)/100.\n",
    "pd.DataFrame(table)\n"
   ]
  },
  {
   "cell_type": "markdown",
   "metadata": {},
   "source": [
    "<H2>Relatieve bijdrage van de ruwheid aan de totale onzekerheid</H2>\n",
    "De totale variantie is als volgt opgebouwd:\n",
    "$$\n",
    "\\sigma^2_{totaal}\n",
    "\\,=\\,\n",
    "\\sigma^2_{jac\n",
    "$$"
   ]
  },
  {
   "cell_type": "code",
   "execution_count": null,
   "metadata": {},
   "outputs": [],
   "source": [
    "# Multiple regressie (Least-Squares sense)\n",
    "def linearfit(y,x):\n",
    "    # fits the linear expression y[j] = sum(alpha[i]*x[ij]) + B\n",
    "    # y is a numpy array size [nsample]\n",
    "    # x is a numpy array size [nsample, nvar]\n",
    "    ns = np.shape(y)[0]\n",
    "    nv = np.shape(x)[1]\n",
    "    A = np.zeros([nv+1,nv+1])\n",
    "    B = np.zeros([nv+1])\n",
    "    for j in range(ns):\n",
    "        for i in range(nv):\n",
    "            for k in range(i,nv):\n",
    "                A[i,k] += x[j,i]*x[j,k]\n",
    "            A[i,nv] += x[j,i]\n",
    "            B[i] += y[j]*x[j,i]\n",
    "        A[nv,nv] += 1.\n",
    "        B[nv] += y[j]\n",
    "    for k in range(1,nv+1):\n",
    "        for i in range(k):\n",
    "            A[k,i] = A[i,k]\n",
    "    alphas = np.linalg.solve(A, B)\n",
    "    return (alphas[:nv],alphas[nv])"
   ]
  }
 ],
 "metadata": {
  "kernelspec": {
   "display_name": "Python 3",
   "language": "python",
   "name": "python3"
  },
  "language_info": {
   "codemirror_mode": {
    "name": "ipython",
    "version": 3
   },
   "file_extension": ".py",
   "mimetype": "text/x-python",
   "name": "python",
   "nbconvert_exporter": "python",
   "pygments_lexer": "ipython3",
   "version": "3.7.1"
  }
 },
 "nbformat": 4,
 "nbformat_minor": 4
}
